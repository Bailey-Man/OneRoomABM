{
 "cells": [
  {
   "cell_type": "code",
   "execution_count": 121,
   "metadata": {},
   "outputs": [],
   "source": [
    "# imports\n",
    "import math\n",
    "import numpy as np\n",
    "import pandas as pd\n",
    "from scipy import stats\n",
    "import random\n",
    "import matplotlib.pyplot as plt\n",
    "# import mayavi.mlab as mlab\n",
    "import seaborn as sns"
   ]
  },
  {
   "cell_type": "code",
   "execution_count": 76,
   "metadata": {},
   "outputs": [],
   "source": [
    "# todo: put all functions and code in separate files for cleanliness and readability"
   ]
  },
  {
   "cell_type": "code",
   "execution_count": 397,
   "metadata": {},
   "outputs": [],
   "source": [
    "# setup default infection parameters\n",
    "\n",
    "floor_area = 86.02  # ft2 # 11.4 m * 2.3 m * (m^2->ft^2) = 86.02 ~= 86 ft^2\n",
    "mean_ceiling_height = 12  # ft # 1.85 m -> ft = 6.06 ~= 6 ft\n",
    "air_exchange_rate = 20  # /hr (air changes per hour (ACH)) #moving bus mph average\n",
    "\n",
    "\n",
    "##Assumed Parameter Identified as 0.2 for Classrooms, 1.0 for outdoors#\n",
    "# and .5 for buses with windows open\n",
    "primary_outdoor_air_fraction = 0.5  # 1.0 = natural ventilation\n",
    "aerosol_filtration_eff = 0  # >0.9997 HEPA, =0.2-0.9 MERVs, =0 no filter\n",
    "# bus has no filter\n",
    "\n",
    "#Average daily RH for San Diego is 69%\n",
    "relative_humidity = 0.69 \n",
    "physical_params = [floor_area, mean_ceiling_height, air_exchange_rate, primary_outdoor_air_fraction,\n",
    "                        aerosol_filtration_eff, relative_humidity]\n",
    "\n",
    "# Physiological Parameters\n",
    "breathing_flow_rate = 0.5  # m3/hr\n",
    "max_aerosol_radius = 2  # micrometers\n",
    "physio_params = [breathing_flow_rate, max_aerosol_radius]\n",
    "\n",
    "# Disease Parameters\n",
    "exhaled_air_inf = 30  # infection quanta/m3, changes with acitivity type.\n",
    "max_viral_deact_rate = 0.3  # /hr\n",
    "disease_params = [exhaled_air_inf, max_viral_deact_rate]\n",
    "\n",
    "# Precautionary Parameters\n",
    "mask_passage_prob = .1 # 1 = no masks, ~0.1 cloth, <0.05 N95\n",
    "risk_tolerance = 0.1  # expected transmissions per infector\n",
    "prec_params = [mask_passage_prob, risk_tolerance]"
   ]
  },
  {
   "cell_type": "code",
   "execution_count": 398,
   "metadata": {},
   "outputs": [],
   "source": [
    "# transmission code:\n",
    "\n",
    "def return_aerosol_transmission_rate(floor_area, room_height,\n",
    "                            air_exchange_rate, \n",
    "                            aerosol_filtration_eff, relative_humidity, breathing_flow_rate,\n",
    "                            exhaled_air_inf, max_viral_deact_rate, mask_passage_prob, \n",
    "                            max_aerosol_radius=2, primary_outdoor_air_fraction=0.2):\n",
    "    \n",
    "    mean_ceiling_height_m = mean_ceiling_height * 0.3048 #m3\n",
    "    room_vol = floor_area * mean_ceiling_height  # ft3\n",
    "    room_vol_m = 0.0283168 * room_vol  # m3\n",
    "\n",
    "    fresh_rate = room_vol * air_exchange_rate / 60  # ft3/min\n",
    "    recirc_rate = fresh_rate * (1/primary_outdoor_air_fraction - 1)  # ft3/min\n",
    "    air_filt_rate = aerosol_filtration_eff * recirc_rate * 60 / room_vol  # /hr\n",
    "    eff_aerosol_radius = ((0.4 / (1 - relative_humidity)) ** (1 / 3)) * max_aerosol_radius\n",
    "    viral_deact_rate = max_viral_deact_rate * relative_humidity\n",
    "    sett_speed = 3 * (eff_aerosol_radius / 5) ** 2  # mm/s\n",
    "    sett_speed = sett_speed * 60 * 60 / 1000  # m/hr\n",
    "    conc_relax_rate = air_exchange_rate + air_filt_rate + viral_deact_rate + sett_speed / mean_ceiling_height_m  # /hr\n",
    "    airb_trans_rate = ((breathing_flow_rate * mask_passage_prob) ** 2) * exhaled_air_inf / (room_vol_m * conc_relax_rate)\n",
    "    \n",
    "    return airb_trans_rate #This is mean number of transmissions per hour between pair of infected / healthy individuals\n",
    "\n"
   ]
  },
  {
   "cell_type": "code",
   "execution_count": 399,
   "metadata": {},
   "outputs": [
    {
     "data": {
      "text/plain": [
       "0.00012355597877443782"
      ]
     },
     "execution_count": 399,
     "metadata": {},
     "output_type": "execute_result"
    }
   ],
   "source": [
    "return_aerosol_transmission_rate(floor_area, mean_ceiling_height,\n",
    "                            air_exchange_rate, \n",
    "                            aerosol_filtration_eff, relative_humidity, breathing_flow_rate,\n",
    "                            exhaled_air_inf, max_viral_deact_rate, mask_passage_prob, \n",
    "                            max_aerosol_radius=2, primary_outdoor_air_fraction=0.2)"
   ]
  },
  {
   "cell_type": "code",
   "execution_count": 572,
   "metadata": {},
   "outputs": [
    {
     "name": "stdout",
     "output_type": "stream",
     "text": [
      "11\n",
      "0.1346534323106491\n"
     ]
    }
   ],
   "source": [
    "# setup variables and functions# output graphs\n",
    "# countdown until symptoms appear: probability curve\n",
    "shape, loc, scale =  (0.6432659248014824, -0.07787673726582335, 4.2489459496009125)\n",
    "x = np.linspace(0, 17, 1000)\n",
    "countdown_curve = stats.lognorm(s=shape, loc=loc, scale=scale)\n",
    "\n",
    "student_a_tus = int(np.round(stats.lognorm.rvs(shape, loc, scale, size=1)[0], 0))\n",
    "#tus = time until symptom\n",
    "\n",
    "# bound the days for overflow errors\n",
    "if student_a_tus >= 18:\n",
    "    student_a_tus = 17\n",
    "if student_a_tus <= 0:\n",
    "    student_a_tus = 0\n",
    "print(student_a_tus)\n",
    "\n",
    "# create infectiveness reference dataframe\n",
    "shape, loc, scale = (20.16693271833812, -12.132674385322815, 0.6322296057082886)\n",
    "x = np.linspace(-10, 8, 19)\n",
    "infective_df = pd.DataFrame({'x': list(x), 'gamma': list(stats.gamma.pdf(x, a=shape, loc=loc, scale=scale))})\n",
    "\n",
    "# uninfected = {i: 0 for i in uninf_index}\n",
    "chu_distance_curve = 2.02\n",
    "a_infectivity = infective_df.iloc[student_a_tus].gamma\n",
    "print(a_infectivity)"
   ]
  },
  {
   "cell_type": "code",
   "execution_count": 573,
   "metadata": {},
   "outputs": [
    {
     "data": {
      "text/plain": [
       "<matplotlib.lines.Line2D at 0x1837bcf1df0>"
      ]
     },
     "execution_count": 573,
     "metadata": {},
     "output_type": "execute_result"
    },
    {
     "data": {
      "image/png": "[encoded data removed]",
      "text/plain": [
       "<Figure size 432x288 with 1 Axes>"
      ]
     },
     "metadata": {
      "needs_background": "light"
     },
     "output_type": "display_data"
    }
   ],
   "source": [
    "plt.scatter(infective_df.x, infective_df.gamma)\n",
    "plt.axvline(x=infective_df.iloc[student_a_tus].x)"
   ]
  },
  {
   "cell_type": "code",
   "execution_count": 574,
   "metadata": {},
   "outputs": [
    {
     "name": "stdout",
     "output_type": "stream",
     "text": [
      "this is the number of days until symptoms are expected (simulated infectivity): -1\n",
      "this is the resulting infectivity we expect: 0.1346534323106491\n"
     ]
    }
   ],
   "source": [
    "days_until_symptoms_expected = infective_df.iloc[student_a_tus].x\n",
    "\n",
    "# for i in student_pos:\n",
    "#     print(i)\n",
    "print('this is the number of days until symptoms are expected (simulated infectivity): ' + str(int(-days_until_symptoms_expected)))\n",
    "print('this is the resulting infectivity we expect: ' + str(a_infectivity))"
   ]
  },
  {
   "cell_type": "code",
   "execution_count": 575,
   "metadata": {},
   "outputs": [
    {
     "data": {
      "text/plain": [
       "{'student_b': 9, 'student_c': 10, 'student_d': 11}"
      ]
     },
     "execution_count": 575,
     "metadata": {},
     "output_type": "execute_result"
    }
   ],
   "source": [
    "# 4 students: next to vs across from vs zigzag\n",
    "\n",
    "# do 1000 runs and average: plot distributions of infection rate for each (w/ different initial # days)\n",
    "\n",
    "\n",
    "who_infected = {'student_b': 0,\n",
    "                'student_c': 0,\n",
    "                'student_d': 0}\n",
    "\n",
    "transmission_rates = {'student_b': [],\n",
    "                'student_c': [],\n",
    "                'student_d': []}\n",
    "\n",
    "\n",
    "distances = []\n",
    "def get_distance(student_pos, i):\n",
    "    x1, y1 = student_pos['student_a']\n",
    "    x2, y2 = student_pos[i]\n",
    "    return x1, x2, y1, y2\n",
    "\n",
    "def get_dist_multiplier(distance):\n",
    "    return 1 / (chu_distance_curve ** distance)\n",
    "\n",
    "\n",
    "def init_positions():\n",
    "    # generate size of room based on \n",
    "    positions = {'student_a': [0,0],\n",
    "                'student_b': [.3, 0],\n",
    "                'student_c': [1, 0],\n",
    "                'student_d': [1, .5]}\n",
    "    return positions \n",
    "\n",
    "student_pos = init_positions()\n",
    "\n",
    "\n",
    "# _ b | _ d\n",
    "# a _ | c _\n",
    "\n",
    "\n",
    "# _ b _ | _ d _\n",
    "# _ a _ | _ c _\n",
    "\n",
    "n_model_runs = 100\n",
    "    # 3 weeks * 5 days * 2 trips * 30 mins / 5 (steps/min)\n",
    "for run in range(n_model_runs):\n",
    "#     n_steps = 180\n",
    "    for week in range(3):\n",
    "        for day in range(5):\n",
    "            for trip in range(2):\n",
    "                \n",
    "                \n",
    "                for i in range(6): # 5 minutes per step * 6 steps = 30 minute trip\n",
    "                    student_a_tus = int(np.round(stats.lognorm.rvs(shape, loc, scale, size=1)[0], 0))\n",
    "                    #tus = time until symptom\n",
    "\n",
    "                    # bound the days for overflow errors\n",
    "                    if student_a_tus >= 18:\n",
    "                        student_a_tus = 17\n",
    "                    if student_a_tus <= 0:\n",
    "                        student_a_tus = 0\n",
    "\n",
    "                    a_infectivity = infective_df.iloc[student_a_tus].gamma\n",
    "\n",
    "                    for i in student_pos.keys():\n",
    "                        if i != 'student_a':\n",
    "                            x1, x2, y1, y2 = get_distance(student_pos, i)\n",
    "                            distance = math.sqrt(((x2-x1)**2)+((y2-y1)**2))\n",
    "\n",
    "                            # multiply by chu\n",
    "                            dist_infect = get_dist_multiplier(distance)\n",
    "\n",
    "                            transmission = a_infectivity * dist_infect * mask_passage_prob # this is # from 0-1\n",
    "                            # keep track of transmission for this student\n",
    "                            transmission_rates[i].append(transmission)\n",
    "\n",
    "                            if np.random.choice([True, False], p=[transmission, 1-transmission]):\n",
    "            #                     print(str(i) + ' got infected')\n",
    "                                who_infected[i] += 1\n",
    "                # likelihood of infection per student per trip:\n",
    "                \n",
    "                \n",
    "                \n",
    "                \n",
    "    # output for run\n",
    "    # get likelihood of >= 1\n",
    "    # 1 - (np.prod([(1 - %infection%b ), (1- %infect%c), (1- %infect%d )]))\n",
    "    \n",
    "            \n",
    "\n",
    "who_infected\n",
    "# plt.plot(student_pos)"
   ]
  },
  {
   "cell_type": "code",
   "execution_count": 576,
   "metadata": {},
   "outputs": [
    {
     "data": {
      "image/png": "[encoded data removed]",
      "text/plain": [
       "<Figure size 432x288 with 1 Axes>"
      ]
     },
     "metadata": {
      "needs_background": "light"
     },
     "output_type": "display_data"
    }
   ],
   "source": [
    "# get stats here\n",
    "for i in student_pos.keys():\n",
    "    if i != 'student_a':\n",
    "        sns.kdeplot(transmission_rates[i])\n",
    "plt.xlabel('Transmission rate distribution for each student')\n",
    "plt.show()\n",
    "\n",
    "\n",
    "# now plot % chance of >= 1 being infected\n",
    "# run model 1000 times\n",
    "# plot eachc % in hist w bin 10"
   ]
  },
  {
   "cell_type": "code",
   "execution_count": 577,
   "metadata": {},
   "outputs": [
    {
     "data": {
      "text/plain": [
       "(5.485959753231542e-10, 54000)"
      ]
     },
     "execution_count": 577,
     "metadata": {},
     "output_type": "execute_result"
    }
   ],
   "source": [
    "def chance_of_nonzero(positions, t_rates):\n",
    "    temp_array = []\n",
    "    count = 0\n",
    "    for i in student_pos.keys():\n",
    "        if i != 'student_a':\n",
    "            for j in transmission_rates[i]:\n",
    "                temp_array.append(1-j)\n",
    "                count += 1\n",
    "    return np.product(temp_array), count\n",
    "chance_of_nonzero(student_pos, transmission_rates)"
   ]
  },
  {
   "cell_type": "code",
   "execution_count": 578,
   "metadata": {},
   "outputs": [
    {
     "data": {
      "text/plain": [
       "(23, 7)"
      ]
     },
     "execution_count": 578,
     "metadata": {},
     "output_type": "execute_result"
    }
   ],
   "source": [
    "bus_flow_direction.shape"
   ]
  },
  {
   "cell_type": "code",
   "execution_count": 579,
   "metadata": {},
   "outputs": [
    {
     "name": "stdout",
     "output_type": "stream",
     "text": [
      "{'student_b': 0.09801178635364421, 'student_c': 0.05991455610519817, 'student_d': 0.05514301475255192}\n",
      "{'student_b': 0.0005445099241869123, 'student_c': 0.00033285864502887873, 'student_d': 0.0003063500819586218}\n"
     ]
    },
    {
     "data": {
      "image/png": "[encoded data removed]",
      "text/plain": [
       "<Figure size 432x288 with 1 Axes>"
      ]
     },
     "metadata": {
      "needs_background": "light"
     },
     "output_type": "display_data"
    }
   ],
   "source": [
    "temp = transmission_rates\n",
    "sum_rates = {i: sum(temp[i]) / n_model_runs for i in temp}\n",
    "print(sum_rates)\n",
    "\n",
    "one_trip_rate = {i: sum(temp[i]) / (n_model_runs * 180) for i in temp}\n",
    "sns.kdeplot(one_trip_rate)\n",
    "print(one_trip_rate)"
   ]
  },
  {
   "cell_type": "code",
   "execution_count": 580,
   "metadata": {},
   "outputs": [],
   "source": [
    "# initialize bus \n",
    "def init_positions_bus():\n",
    "    #\n",
    "    positions = {'a': [2, 3],\n",
    "                'b': [2, 16],\n",
    "                'c': [9, 8],\n",
    "                'd': [9, 21],\n",
    "                'e': [16, 3],\n",
    "                'f': [16, 16],\n",
    "                'g': [23, 8],\n",
    "                'h': [23, 21],\n",
    "                'i': [30, 3],\n",
    "                'j': [30, 16],\n",
    "                'k': [37, 8],\n",
    "                'l': [37, 21],\n",
    "                'm': [44, 3],\n",
    "                'n': [44, 16],\n",
    "                'o': [51, 8],\n",
    "                'p': [51, 21],\n",
    "                'q': [58, 3],\n",
    "                'r': [58, 16],\n",
    "                's': [65, 8],\n",
    "                't': [65, 21],\n",
    "                'u': [72, 3],\n",
    "                'v': [72, 16],\n",
    "                'w': [79, 8],\n",
    "                'x': [79, 21],\n",
    "                'y': [86, 3],\n",
    "                'z': [86, 16],\n",
    "                'aa': [93, 8],\n",
    "                'ab': [93, 21]}\n",
    "    return positions\n",
    "\n",
    "# add height? X, Y gives a top down 2d plot\n",
    "def init_flow_student_locations():\n",
    "    locations = {'a': [1, 1],\n",
    "                'b': [1, 4],\n",
    "                'c': [2, 2],\n",
    "                'd': [2, 5],\n",
    "                'e': [3, 1],\n",
    "                'f': [3, 4],\n",
    "                'g': [5, 2],\n",
    "                'h': [5, 5],                \n",
    "                'i': [6, 1],\n",
    "                'j': [6, 4],\n",
    "                'k': [7, 2],\n",
    "                'l': [7, 5],                \n",
    "                'm': [9, 1],\n",
    "                'n': [9, 4],\n",
    "                'o': [10, 2],\n",
    "                'p': [10, 5],                \n",
    "                'q': [12, 1],\n",
    "                'r': [12, 4],\n",
    "                's': [13, 2],\n",
    "                't': [13, 5],                \n",
    "                'u': [14, 1],\n",
    "                'v': [14, 4],\n",
    "                'w': [16, 2],\n",
    "                'x': [16, 5],                \n",
    "                'y': [17, 1],\n",
    "                'z': [17, 4],\n",
    "                'aa': [18, 2],\n",
    "                'ab': [18, 5]}\n",
    "    return locations\n",
    "\n",
    "def get_distance_bus(bus_pos, i, initial):\n",
    "    x1, y1 = bus_pos[initial]\n",
    "    x2, y2 = bus_pos[i]\n",
    "    return x1, x2, y1, y2\n",
    "\n",
    "def air_flow_infect(student_id):\n",
    "    # this applies airflow to aerosol %\n",
    "    # TODO: step by step airflow\n",
    "    \n",
    "    # use quiver mapping at bottom- fix that firstx\n",
    "    \n",
    "    x, y = bus_flow_loc[student_id]\n",
    "    z = 100\n",
    "    \n",
    "    \n",
    "    return temp_array[5][x][y]\n"
   ]
  },
  {
   "cell_type": "code",
   "execution_count": null,
   "metadata": {},
   "outputs": [],
   "source": []
  },
  {
   "cell_type": "code",
   "execution_count": 581,
   "metadata": {},
   "outputs": [
    {
     "data": {
      "text/plain": [
       "Text(0.5, 1.0, 'Spread of contagious virions in back of bus')"
      ]
     },
     "execution_count": 581,
     "metadata": {},
     "output_type": "execute_result"
    },
    {
     "data": {
      "image/png": "[encoded data removed]",
      "text/plain": [
       "<Figure size 288x946.286 with 1 Axes>"
      ]
     },
     "metadata": {
      "needs_background": "light"
     },
     "output_type": "display_data"
    }
   ],
   "source": [
    "# Visualization for air-flow quanta calculations\n",
    "\n",
    "\n",
    "temp, initial = make_new_heat(nothings, 'a')\n",
    "\n",
    "# simulate all #s over 1000 runs\n",
    "# average all points\n",
    "\n",
    "# plt.matshow(out)\n",
    "range_ = 6\n",
    "temp_array = []\n",
    "\n",
    "for i in range(range_): # this heatmap displays average risk / 1000 sample runs\n",
    "    temp, initial = make_new_heat(temp, initial)\n",
    "#     plt.matshow(temp, cmap=\"Reds\")\n",
    "    temp_array.append(temp)\n",
    "    \n",
    "\n",
    "    # save temp to step_dict?\n",
    "plt.matshow(temp_array[-1], cmap=\"Reds\")\n",
    "plt.title(\"Spread of contagious virions in back of bus\")"
   ]
  },
  {
   "cell_type": "code",
   "execution_count": 542,
   "metadata": {},
   "outputs": [
    {
     "data": {
      "text/plain": [
       "{'a': 0,\n",
       " 'b': 0,\n",
       " 'c': 0,\n",
       " 'd': 0,\n",
       " 'e': 0,\n",
       " 'f': 0,\n",
       " 'g': 0,\n",
       " 'h': 0,\n",
       " 'i': 1,\n",
       " 'j': 0,\n",
       " 'k': 0,\n",
       " 'l': 0,\n",
       " 'm': 0,\n",
       " 'n': 0,\n",
       " 'o': 0,\n",
       " 'p': 0,\n",
       " 'q': 0,\n",
       " 'r': 0,\n",
       " 's': 0,\n",
       " 't': 0,\n",
       " 'u': 0,\n",
       " 'v': 1,\n",
       " 'w': 1,\n",
       " 'x': 0,\n",
       " 'y': 1,\n",
       " 'z': 1,\n",
       " 'aa': 0,\n",
       " 'ab': 0}"
      ]
     },
     "execution_count": 542,
     "metadata": {},
     "output_type": "execute_result"
    }
   ],
   "source": [
    "bus_pos = init_positions_bus()\n",
    "who_infected_bus = {'a': 0,\n",
    "                   'b': 0,\n",
    "                   'c': 0,\n",
    "                   'd': 0,\n",
    "                   'e': 0,\n",
    "                   'f': 0,\n",
    "                   'g': 0,\n",
    "                   'h': 0,\n",
    "                   'i': 0,\n",
    "                   'j': 0,\n",
    "                   'k': 0,\n",
    "                   'l': 0,\n",
    "                   'm': 0,\n",
    "                   'n': 0,\n",
    "                   'o': 0,\n",
    "                   'p': 0,\n",
    "                   'q': 0,\n",
    "                   'r': 0,\n",
    "                   's': 0,\n",
    "                   't': 0,\n",
    "                   'u': 0,\n",
    "                   'v': 0,\n",
    "                   'w': 0,\n",
    "                   'x': 0,\n",
    "                   'y': 0,\n",
    "                   'z': 0,\n",
    "                   'aa': 0,\n",
    "                   'ab': 0,}\n",
    "transmission_bus_rates = {i: [] for i in who_infected_bus.keys()}\n",
    "temp_rates = transmission_bus_rates.copy()\n",
    "\n",
    "aqd = return_aerosol_transmission_rate(floor_area, mean_ceiling_height,\n",
    "                            air_exchange_rate, \n",
    "                            aerosol_filtration_eff, relative_humidity, breathing_flow_rate,\n",
    "                            exhaled_air_inf, max_viral_deact_rate, mask_passage_prob, \n",
    "                            max_aerosol_radius=2, primary_outdoor_air_fraction=0.2)\n",
    "\n",
    "n_runs = 100\n",
    "# for init_choice in ['a']:\n",
    "for i in range(n_runs):\n",
    "    init_choice = np.random.choice(list(who_infected_bus.keys()))\n",
    "    for trip in range(2):\n",
    "        temp_average_array = temp_rates.copy()\n",
    "\n",
    "        for five_min_timestep in range(6):\n",
    "            # set initial infected TODO change from always 'a' (in the back)\n",
    "            initial = init_choice\n",
    "            student_a_tus = int(np.round(stats.lognorm.rvs(shape, loc, scale, size=1)[0], 0))\n",
    "            #tus = time until symptom\n",
    "\n",
    "            # bound the days for overflow errors\n",
    "            if student_a_tus >= 18:\n",
    "                student_a_tus = 17\n",
    "            if student_a_tus <= 0:\n",
    "                student_a_tus = 0\n",
    "\n",
    "            a_infectivity = infective_df.iloc[student_a_tus].gamma\n",
    "\n",
    "            for i in bus_pos.keys():\n",
    "                if i != init_choice:\n",
    "                    x1, x2, y1, y2 = get_distance_bus(bus_pos, i, initial)\n",
    "                    distance = math.sqrt(((x2-x1)**2)+((y2-y1)**2))\n",
    "\n",
    "                    # multiply by chu\n",
    "                    dist_infect = get_dist_multiplier(distance)\n",
    "#                     print(dist_infect)\n",
    "                else:\n",
    "                    dist_infect = 1\n",
    "                air = i\n",
    "                air_flow = air_flow_infect(i)\n",
    "\n",
    "                aerosol_quanta_dose = aqd\n",
    "\n",
    "                transmission = (a_infectivity * dist_infect * mask_passage_prob) + (aerosol_quanta_dose * air_flow)# this is # from 0-1\n",
    "#                     print(transmission)\n",
    "#                         transmission_bus_rates[i].append(transmission)\n",
    "\n",
    "                temp_average_array[i].append(transmission)\n",
    "\n",
    "\n",
    "\n",
    "                if np.random.choice([True, False], p=[transmission, 1-transmission]):\n",
    "#                         print(str(i) + ' got infected')\n",
    "                    who_infected_bus[i] += 1\n",
    "        # likelihood of infection for each student for each trip\n",
    "        for i in bus_pos.keys():\n",
    "#                 if i != init_choice:\n",
    "            transmission_bus_rates[i].append(np.mean(temp_average_array[i]))\n",
    "            \n",
    "# take average of all % infections for each student\n",
    "# transmission_bus_rates['x']\n",
    "who_infected_bus"
   ]
  },
  {
   "cell_type": "code",
   "execution_count": 543,
   "metadata": {},
   "outputs": [],
   "source": [
    "# this function embodies the air flow's reduction of viral particles at each step according to observations and simulations\n",
    "# Turbulence creates unequal concentrations within the environment, resulting in open windows and ceiling vents \n",
    "# being primary contributors to reduction of viral particles\n",
    "\n",
    "bus_flow_direction = np.array([[1, 1, 1, 2, 3, 4, 4],\n",
    "              [1, 4, 7, 8, 9, 9, 6],\n",
    "              [4, 7, 7, 8, 9, 9, 6],\n",
    "              [4, 4, 5, 2, 5, 4, 4],\n",
    "              [8, 5, 5, 2, 5, 5, 8], #\n",
    "              [1, 1, 1, 2, 5, 6, 6],\n",
    "              [1, 1, 2, 2, 5, 6, 6],\n",
    "              [1, 1, 2, 2, 3, 3, 6],\n",
    "              [5, 5, 5, 2, 5, 5, 5],\n",
    "              [1, 1, 1, 2, 3, 3, 3], #\n",
    "              [1, 1, 2, 2, 2, 3, 3],\n",
    "              [1, 1, 2, 2, 2, 3, 3],\n",
    "              [1, 1, 2, 2, 2, 3, 3],\n",
    "              [1, 1, 2, 2, 2, 3, 3],\n",
    "              [1, 5, 5, 2, 2, 3, 3], #\n",
    "              [1, 1, 1, 2, 2, 3, 3],\n",
    "              [1, 1, 1, 2, 2, 3, 3],\n",
    "              [1, 1, 1, 2, 3, 6, 6],\n",
    "              [1, 1, 2, 2, 3, 3, 6],\n",
    "              [1, 2, 2, 2, 3, 3, 6], #\n",
    "              [4, 4, 4, 5, 6, 6, 6],\n",
    "              [2, 2, 2, 5, 5, 5, 5],\n",
    "              [2, 2, 5, 8, 2, 2, 2]])\n",
    "\n",
    "bus_flow_velocity = np.array([[3,3,2,1,1,0,1],\n",
    "    [1,0,1,2,3,2,2],\n",
    "    [1,2,1,0,1,2,2],\n",
    "    [2,1,0,0,0,1,1],\n",
    "    [2,1,0,0,0,1,1], #\n",
    "    [2,1,0,0,0,0,1],\n",
    "    [1,1,0,0,0,0,1],\n",
    "    [1,2,1,1,0,0,0],\n",
    "    [0,1,2,1,0,1,2],\n",
    "    [0,0,0,0,0,0,1], #\n",
    "    [2,2,2,2,2,1,1],\n",
    "    [3,2,2,2,2,2,2],\n",
    "    [2,0,0,0,0,1,2],\n",
    "    [1,2,2,2,2,2,1],\n",
    "    [1,1,2,2,2,1,1], #\n",
    "    [1,1,2,2,2,1,1],\n",
    "    [1,1,1,1,1,1,1],\n",
    "    [2,2,2,2,2,2,2],\n",
    "    [2,2,3,3,3,2,2],\n",
    "    [1,1,2,2,2,1,1], #\n",
    "    [1,1,2,2,2,1,1],\n",
    "    [1,1,1,1,1,1,1],\n",
    "    [1,1,1,1,0,0,0],\n",
    "    [1,1,0,0,0,0,0]])\n",
    "\n",
    "estimated_bus_risk = np.array([[1, 1, 2, 2, 2, 1, 1],\n",
    "              [1, 2, 1, 3, 2, 4, 2],\n",
    "              [2, 1, 1, 4, 3, 3, 2],\n",
    "              [4, 3, 5, 3, 4, 4, 4],\n",
    "              [3, 4, 3, 4, 2, 4, 5], #\n",
    "              [3, 1, 1, 4, 5, 6, 6],\n",
    "              [2, 1, 2, 5, 5, 6, 6],\n",
    "              [1, 1, 2, 5, 3, 3, 6],\n",
    "              [3, 5, 5, 5, 4, 6, 5],\n",
    "              [1, 1, 1, 4, 3, 3, 3], #\n",
    "              [1, 1, 2, 4, 2, 4, 2],\n",
    "              [1, 1, 2, 4, 2, 3, 3],\n",
    "              [1, 1, 2, 4, 5, 2, 1],\n",
    "              [1, 1, 2, 5, 4, 3, 3],\n",
    "              [2, 5, 5, 5, 3, 3, 3], #\n",
    "              [1, 1, 1, 4, 3, 3, 3],\n",
    "              [2, 1, 1, 5, 4, 5, 3],\n",
    "              [1, 1, 1, 4, 3, 3, 6],\n",
    "              [1, 2, 4, 5, 3, 4, 2],\n",
    "              [1, 2, 3, 4, 4, 3, 2], #\n",
    "              [3, 2, 3, 5, 4, 3, 2],\n",
    "              [2, 2, 2, 4, 5, 5, 5],\n",
    "              [2, 2, 5, 4, 2, 2, 2]])\n",
    "\n",
    "# these are values relating to quanta in vs out in these .3 by .5 m squares of a slice from mouth level of the bus\n",
    "\n",
    "\n",
    "# organized like:\n",
    "# 3 6 9\n",
    "# 2 5 8\n",
    "# 1 4 7\n",
    "\n",
    "direction_dict = {1: [9, 6, 8, 3, 7],\n",
    "                 4: [8, 7, 9, 4, 6],\n",
    "                 7: [7, 4, 8, 1, 9],\n",
    "                 2: [6, 9, 3, 8, 2],\n",
    "                 5: [0, 0, 0, 0, 0],\n",
    "                 8: [4, 1, 7, 2, 8],\n",
    "                 3: [3, 2, 6, 1, 9],\n",
    "                 6: [2, 1, 3, 4, 6],\n",
    "                 9: [1, 2, 4, 3, 7]} # these values are in .5 * risk, .05 * risk, and .125 * risk respectively\n",
    "# .5, .05, .125 derived from cubic air flow direction\n",
    "\n",
    "risk_dict = {0: .5,\n",
    "            1: .05,\n",
    "            2: .05,\n",
    "            3: .0125,\n",
    "            4: .0125} # created for access\n",
    "\n",
    "magnitude_dict = {0: 1,\n",
    "                 1: .75,\n",
    "                 2: .5} # amount of quanta remaining after ventilation\n",
    "\n",
    "\n",
    "def get_neighbor_incoming(x, y, old):\n",
    "    neighb = []\n",
    "    count = 0\n",
    "    # flower petal arrow assumption:\n",
    "    # if arrow = directly towards, 50% of quanta will go from neighbor -> selected\n",
    "    # \n",
    "    \n",
    "    for i in [-1, 0, 1]:\n",
    "        for j in [-1, 0, 1]:\n",
    "            count += 1\n",
    "            try:\n",
    "                direction = bus_flow_direction[x + i][y + j]\n",
    "                magnitude = bus_flow_velocity[x + i][y + j]\n",
    "                value = old[x + i][y + j]\n",
    "                this_val = old[x][y]\n",
    "                this_mag = bus_flow_velocity[x][y]\n",
    "                \n",
    "                idx = direction_dict[count].index(direction)                \n",
    "                this_val += (risk_dict[idx] * (magnitude + .1) * value) \n",
    "                new_val = this_val * magnitude_dict[this_mag]\n",
    "                neighb.append(new_val)\n",
    "            except:\n",
    "                neighb.append(0)\n",
    "    return neighb\n",
    "                \n",
    "                \n",
    "\n",
    "def air_effects(i, j, oldQ):\n",
    "    '''\n",
    "    i, j: x y locations\n",
    "    \n",
    "    oldQ: old quanta at that cube\n",
    "    \n",
    "    \n",
    "    get neighbors directions and magnitude\n",
    "    determine % in and % out    \n",
    "    '''\n",
    "    # bus seats ?\n",
    "    \n",
    "    \n",
    "    \n",
    "    \n",
    "    # windows \n",
    "    if j < 2 or j > 4:\n",
    "        new = oldQ * .85\n",
    "        \n",
    "        \n",
    "    # ceiling vents\n",
    "    if (i > 6 and i < 9) or (i > 12 and i < 15):\n",
    "        new = oldQ * .6\n",
    "    else:\n",
    "        new = 1.1 * oldQ\n",
    "    \n",
    "    return new\n",
    "\n",
    "bus_flow_loc = init_flow_student_locations()\n",
    "\n",
    "def make_new_heat(old, init_infected_ = None):\n",
    "    if init_infected_:\n",
    "        pass\n",
    "    else:\n",
    "        init_infected_ = np.random.choice(list(bus_flow_loc.keys()))\n",
    "    initial_loc = bus_flow_loc[init_infected_]\n",
    "    new = old.copy()\n",
    "    out = old.copy()\n",
    "    for i in range(len(old)):\n",
    "        for j in range(len(old[i])):\n",
    "#             print(i, j)\n",
    "            dist = math.sqrt(((initial_loc[0] - i)**2) + (initial_loc[1] - j)**2)\n",
    "            new_val = old[i][j] + (1/(4.02 ** dist))\n",
    "            new[i][j] = new_val\n",
    "            \n",
    "            ##################################################\n",
    "    for i in range(len(old)):\n",
    "        for j in range(len(old[i])):\n",
    "            neighbor_val = np.mean(get_neighbor_incoming(i, j, new))\n",
    "            air_val = air_effects(i, j, neighbor_val)\n",
    "            out[i][j] = air_val\n",
    "            \n",
    "#     for student in bus_flow_loc.keys():\n",
    "#         location = bus_flow_loc[student]        \n",
    "#         neighbor_val = np.mean(get_neighbor_incoming(x, y, old))\n",
    "#         new[location[0], location[1]] = air_val\n",
    "    return out, init_infected_\n",
    "nothings = np.zeros(bus_flow_direction.shape)\n",
    "# out, initial_ = make_new_heat(estimated_bus_risk,)\n",
    "# plt.matshow(out)"
   ]
  },
  {
   "cell_type": "code",
   "execution_count": 544,
   "metadata": {},
   "outputs": [
    {
     "data": {
      "application/javascript": [
       "IPython.OutputArea.auto_scroll_threshold = 999;\n"
      ],
      "text/plain": [
       "<IPython.core.display.Javascript object>"
      ]
     },
     "metadata": {},
     "output_type": "display_data"
    }
   ],
   "source": [
    "%%javascript\n",
    "IPython.OutputArea.auto_scroll_threshold = 999;"
   ]
  },
  {
   "cell_type": "code",
   "execution_count": 545,
   "metadata": {},
   "outputs": [
    {
     "name": "stdout",
     "output_type": "stream",
     "text": [
      "0.024865411127780828\n",
      "0.028508349802728285\n",
      "0.030286127771945785\n",
      "0.031174504978414695\n",
      "0.031627262792815324\n",
      "0.03186216665447804\n"
     ]
    },
    {
     "data": {
      "text/plain": [
       "Text(0.5, 1.0, 'demonstrate total concentration changing over time')"
      ]
     },
     "execution_count": 545,
     "metadata": {},
     "output_type": "execute_result"
    },
    {
     "data": {
      "image/png": "[encoded data removed]",
      "text/plain": [
       "<Figure size 432x288 with 1 Axes>"
      ]
     },
     "metadata": {
      "needs_background": "light"
     },
     "output_type": "display_data"
    }
   ],
   "source": [
    "for i in temp_array:\n",
    "    print(np.mean(i))\n",
    "plt.plot([np.mean(i) for i in temp_array])\n",
    "plt.xlabel('5 minute timesteps')\n",
    "plt.ylabel('average concentration of virus')\n",
    "plt.title('demonstrate total concentration changing over time')"
   ]
  },
  {
   "cell_type": "code",
   "execution_count": 546,
   "metadata": {},
   "outputs": [
    {
     "data": {
      "image/png": "[encoded data removed]",
      "text/plain": [
       "<Figure size 432x288 with 1 Axes>"
      ]
     },
     "metadata": {
      "needs_background": "light"
     },
     "output_type": "display_data"
    }
   ],
   "source": [
    "# display transmission rates for all students\n",
    "# get stats here\n",
    "for i in bus_pos.keys():\n",
    "    all_max = 0\n",
    "    if i != 'a':\n",
    "        new_m = max(transmission_bus_rates[i])\n",
    "        plt.hist(transmission_bus_rates[i], bins=100)\n",
    "        if new_m > all_max:\n",
    "            all_max = new_m\n",
    "#     print(all_max)\n",
    "plt.xlabel('Transmission rate samples')\n",
    "plt.ylabel('Density of samples')\n",
    "plt.title('Distributions of post-processing transmission rate')\n",
    "plt.show()\n",
    "# transmission_bus_rates"
   ]
  },
  {
   "cell_type": "code",
   "execution_count": 553,
   "metadata": {},
   "outputs": [
    {
     "data": {
      "image/png": "[encoded data removed]",
      "text/plain": [
       "<Figure size 432x288 with 1 Axes>"
      ]
     },
     "metadata": {
      "needs_background": "light"
     },
     "output_type": "display_data"
    }
   ],
   "source": [
    "temp = transmission_bus_rates.copy()\n",
    "# print(temp)\n",
    "del temp['a']\n",
    "# sum_rates = {i: sum(temp[i]) / n_runs for i in temp}\n",
    "# sns.kdeplot(sum_rates)\n",
    "# 200 = 2 trips * 100 runs\n",
    "bus_trip_rate = {i: sum(temp[i]) / 200 for i in temp}\n",
    "sns.kdeplot(bus_trip_rate).set_title(\"Likelihood of Infection on sample trip\")\n",
    "\n",
    "# sample windows vs no windows using red vs blue\n",
    "\n",
    "# windows / no windows\n",
    "\n",
    "# masks 100% / 90%\n",
    "\n",
    "# vents open / closed\n",
    "\n",
    "# seating zigzag / seating anywhere \n",
    "\n",
    "\n",
    "# label x y etc\n",
    "plt.savefig(\"One_trip_infections.png\", dpi=300)\n",
    "# print(np.mean(list(bus_trip_rate.values())))\n",
    "\n",
    "# np.mean(list(bus_trip_rate.values()))"
   ]
  },
  {
   "cell_type": "code",
   "execution_count": 21,
   "metadata": {},
   "outputs": [],
   "source": [
    "# second output: \n",
    "# bus infections over:\n",
    "\n",
    "# Actual bus trip [bus route ]\n",
    "\n",
    "# 3d viz of infective areas = #stackoverflow code"
   ]
  },
  {
   "cell_type": "code",
   "execution_count": 44,
   "metadata": {},
   "outputs": [
    {
     "data": {
      "image/png": "[encoded data removed]",
      "text/plain": [
       "<Figure size 432x288 with 1 Axes>"
      ]
     },
     "metadata": {
      "needs_background": "light"
     },
     "output_type": "display_data"
    }
   ],
   "source": [
    "# original code credit: mpl.org 3dquiver tutorial\n",
    "import matplotlib.pyplot as plt\n",
    "import numpy as np\n",
    "\n",
    "fig = plt.figure()\n",
    "ax = fig.gca(projection='3d')\n",
    "\n",
    "# TODO: change to .1 spacing once gridding is correct\n",
    "x, y, z = np.meshgrid(np.arange(0, 11.4, .5),\n",
    "                       np.arange(0, 2.3, .5),\n",
    "                       np.arange(0, 1.8, .5))\n",
    "\n",
    "\n",
    "# these point in exact xyz for each point\n",
    "# fix to equation \n",
    "\n",
    "\n",
    "# get x, y, z arrows from dict with  each x, y, and z:\n",
    "# i.e. x_arow = arrow_direction[x, y, z]\n",
    "x_array = [] # length = same as x\n",
    "y_array = [] # length = same as y\n",
    "z_array = [] # length = same as z\n",
    "\n",
    "# above arrays are created manually? from making the bus in 3d\n",
    "# easy peasy just use graph paper\n",
    "\n",
    "\n",
    "x_arrow = np.cos(np.pi * x) * np.sin(np.pi * y) * np.cos(np.pi * z)\n",
    "y_arrow = 3 #-np.cos(np.pi * x) * np.sin(np.pi * y) * np.cos(np.pi * z)\n",
    "z_arrow = 10\n",
    "\n",
    "c = np.arctan2(x, y)\n",
    "# this is the eventual heatmap values?\n",
    "# velocity, magnitude = direction and arrow size\n",
    "# color = 'concentration at this spot'\n",
    "ax.quiver(x, y, z, x_arrow, y_arrow, z_arrow, length=.1, normalize=True, cmap='viridis')\n",
    "# print(x)\n",
    "ax.set_xlabel('x')\n",
    "ax.set_ylabel('y')\n",
    "ax.set_zlabel('z')\n",
    "# plt.legend([x, y, z])\n",
    "plt.show()\n",
    "# label axes\n",
    "\n",
    "\n",
    "\n",
    "\n",
    "# ok now fix this to bus dimensions:\n",
    "\n",
    "# bus is 2.3 (x) meters wide, 1.9 (y) meters tall, and 11.4 (z) meters long\n",
    "\n",
    "# bus is thus 19\n"
   ]
  },
  {
   "cell_type": "code",
   "execution_count": null,
   "metadata": {},
   "outputs": [],
   "source": []
  }
 ],
 "metadata": {
  "kernelspec": {
   "display_name": "Python 3",
   "language": "python",
   "name": "python3"
  },
  "language_info": {
   "codemirror_mode": {
    "name": "ipython",
    "version": 3
   },
   "file_extension": ".py",
   "mimetype": "text/x-python",
   "name": "python",
   "nbconvert_exporter": "python",
   "pygments_lexer": "ipython3",
   "version": "3.8.8"
  }
 },
 "nbformat": 4,
 "nbformat_minor": 4
}

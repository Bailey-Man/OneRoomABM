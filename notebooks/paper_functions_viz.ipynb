{
 "cells": [
  {
   "cell_type": "code",
   "execution_count": 1,
   "metadata": {},
   "outputs": [],
   "source": [
    "# imports\n",
    "import math\n",
    "import numpy as np\n",
    "import pandas as pd\n",
    "from scipy import stats\n",
    "import random\n",
    "import matplotlib.pyplot as plt\n",
    "# import mayavi.mlab as mlab\n",
    "import seaborn as sns\n",
    "\n",
    "import sys\n",
    "import json\n",
    "import shutil"
   ]
  },
  {
   "cell_type": "code",
   "execution_count": 2,
   "metadata": {},
   "outputs": [],
   "source": [
    "def load_parameters(filepath):\n",
    "    '''\n",
    "    Loads input and output directories\n",
    "    '''\n",
    "    with open(filepath) as fp:\n",
    "        parameter = json.load(fp)\n",
    "\n",
    "    return parameter\n",
    "\n",
    "sys.path.insert(0, '../src')"
   ]
  },
  {
   "cell_type": "code",
   "execution_count": 3,
   "metadata": {},
   "outputs": [],
   "source": [
    "# LOCAL IMPORT\n",
    "# import data from other files\n",
    "from bus import bus_sim, trip_stats\n",
    "from classroom import func\n",
    "from infection import generate_infectivity_curves, plot_infectivity_curves\n",
    "\n",
    "\n",
    "\n",
    "# import functions from other files\n",
    "\n",
    "# import default parameters\n",
    "# bus_params = load_parameters('../config/bus_params.json')\n",
    "\n",
    "# class_params = load_parameters('../config/class_params.json')"
   ]
  },
  {
   "cell_type": "code",
   "execution_count": 8,
   "metadata": {},
   "outputs": [],
   "source": [
    "# INFECTION\n",
    "\n",
    "# plot % infectivity based on day- lognormal w/ % chance of infectivity\n",
    "\n",
    "# proxy_vars = generate_infectivity_curves()\n",
    "# plot_infectivity_curves(proxy_vars)"
   ]
  },
  {
   "cell_type": "code",
   "execution_count": 14,
   "metadata": {},
   "outputs": [
    {
     "data": {
      "text/html": [
       "<div>\n",
       "<style scoped>\n",
       "    .dataframe tbody tr th:only-of-type {\n",
       "        vertical-align: middle;\n",
       "    }\n",
       "\n",
       "    .dataframe tbody tr th {\n",
       "        vertical-align: top;\n",
       "    }\n",
       "\n",
       "    .dataframe thead th {\n",
       "        text-align: right;\n",
       "    }\n",
       "</style>\n",
       "<table border=\"1\" class=\"dataframe\">\n",
       "  <thead>\n",
       "    <tr style=\"text-align: right;\">\n",
       "      <th></th>\n",
       "      <th>0</th>\n",
       "      <th>1</th>\n",
       "      <th>2</th>\n",
       "      <th>3</th>\n",
       "    </tr>\n",
       "  </thead>\n",
       "  <tbody>\n",
       "    <tr>\n",
       "      <th>0</th>\n",
       "      <td>[0, 0, 0]</td>\n",
       "      <td>[0, 1, 0]</td>\n",
       "      <td>[1, 0, 0]</td>\n",
       "      <td>[1, 1, 0]</td>\n",
       "    </tr>\n",
       "    <tr>\n",
       "      <th>1</th>\n",
       "      <td>[0, 0, 1]</td>\n",
       "      <td>[0, 1, 1]</td>\n",
       "      <td>[1, 0, 1]</td>\n",
       "      <td>[1, 1, 1]</td>\n",
       "    </tr>\n",
       "    <tr>\n",
       "      <th>2</th>\n",
       "      <td>[0, 0, 2]</td>\n",
       "      <td>[0, 1, 2]</td>\n",
       "      <td>[1, 0, 2]</td>\n",
       "      <td>[1, 1, 2]</td>\n",
       "    </tr>\n",
       "  </tbody>\n",
       "</table>\n",
       "</div>"
      ],
      "text/plain": [
       "           0          1          2          3\n",
       "0  [0, 0, 0]  [0, 1, 0]  [1, 0, 0]  [1, 1, 0]\n",
       "1  [0, 0, 1]  [0, 1, 1]  [1, 0, 1]  [1, 1, 1]\n",
       "2  [0, 0, 2]  [0, 1, 2]  [1, 0, 2]  [1, 1, 2]"
      ]
     },
     "execution_count": 14,
     "metadata": {},
     "output_type": "execute_result"
    }
   ],
   "source": [
    "# BUS\n",
    "\n",
    "# initialize: parameter loops\n",
    "\n",
    "windows = ['up', 'down']\n",
    "num_students = [28, 56]\n",
    "masks = [100, 90, 80]\n",
    "\n",
    "# table output: % chance of >= 1 infection over 1 bus trip\n",
    "\n",
    "out_array = [[], [], []]\n",
    "\n",
    "# p   100   90   80\n",
    "# 28^\n",
    "# 28v\n",
    "# 56^\n",
    "# 56v\n",
    "\n",
    "for w in range(len(windows)):\n",
    "\n",
    "    for n in range(len(num_students)):\n",
    "        \n",
    "        for m in range(len(masks)):\n",
    "            \n",
    "            \n",
    "            # reference array\n",
    "            out_array[m].append([w,n, m])\n",
    "            \n",
    "            \n",
    "\n",
    "# initialize: scatter\n",
    "\n",
    "# output: scatterplot of distance from initial (X) vs Likelihood of infection (Y)\n",
    "# Y: each point = 1 student, averaged over 100 reruns (random initial student, random infectivity)\n",
    "\n",
    "\n",
    "# initialize: close_neighbors\n",
    "\n",
    "# 5 students: KDEplot of % likelihood of infection over 1 trip\n",
    "\n",
    "pd.DataFrame(out_array)"
   ]
  },
  {
   "cell_type": "code",
   "execution_count": 7,
   "metadata": {},
   "outputs": [],
   "source": [
    "# CLASS\n",
    "\n",
    "# initialize: parameter loops\n",
    "\n",
    "masks = [100, 90, 80]\n",
    "windows = ['up', 'down']\n",
    "num_students = [10, 25, 40]\n",
    "\n",
    "# table output: % chance of >= 1 infection over 1 day\n",
    "\n",
    "# initialize: KDEplot of % likelihood of transmission for each student (100 reruns)\n",
    "\n"
   ]
  },
  {
   "cell_type": "code",
   "execution_count": null,
   "metadata": {},
   "outputs": [],
   "source": [
    "# AIR FLOW\n",
    "\n",
    "# Well-mixed room assumption\n",
    "\n",
    "# ACH discussion\n",
    "\n",
    "# Class\n",
    "\n",
    "\n",
    "\n",
    "# Bus"
   ]
  }
 ],
 "metadata": {
  "kernelspec": {
   "display_name": "Python 3",
   "language": "python",
   "name": "python3"
  },
  "language_info": {
   "codemirror_mode": {
    "name": "ipython",
    "version": 3
   },
   "file_extension": ".py",
   "mimetype": "text/x-python",
   "name": "python",
   "nbconvert_exporter": "python",
   "pygments_lexer": "ipython3",
   "version": "3.8.8"
  }
 },
 "nbformat": 4,
 "nbformat_minor": 4
}

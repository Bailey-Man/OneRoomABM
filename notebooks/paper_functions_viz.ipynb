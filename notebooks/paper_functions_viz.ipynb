{
 "cells": [
  {
   "cell_type": "code",
   "execution_count": 2,
   "metadata": {},
   "outputs": [],
   "source": [
    "# imports\n",
    "import math\n",
    "import numpy as np\n",
    "import pandas as pd\n",
    "from scipy import stats\n",
    "import random\n",
    "import matplotlib.pyplot as plt\n",
    "# import mayavi.mlab as mlab\n",
    "import seaborn as sns\n",
    "\n",
    "import sys\n",
    "import json\n",
    "import shutil"
   ]
  },
  {
   "cell_type": "code",
   "execution_count": 3,
   "metadata": {},
   "outputs": [],
   "source": [
    "def load_parameters(filepath):\n",
    "    '''\n",
    "    Loads input and output directories\n",
    "    '''\n",
    "    with open(filepath) as fp:\n",
    "        parameter = json.load(fp)\n",
    "\n",
    "    return parameter\n",
    "\n",
    "sys.path.insert(0, '../src')"
   ]
  },
  {
   "cell_type": "code",
   "execution_count": 4,
   "metadata": {
    "scrolled": true
   },
   "outputs": [],
   "source": [
    "# Seating_chart_builder\n",
    "\n",
    "n = 28\n",
    "seats = {str(i): 0 for i in range(n)}\n",
    "seats_28 = seats.copy()\n",
    "for key, val in seats.items():    \n",
    "    if int(key)%4 == 0:\n",
    "        x = int(7/2 * int(key) + 2)\n",
    "        y = 3\n",
    "            \n",
    "    elif int(key)%4 == 1:\n",
    "        x = int(7/2 * (int(key) - 1) + 2)\n",
    "        y = 16\n",
    "        \n",
    "    elif int(key)%4 == 2:\n",
    "        x = int(7/2 * int(key) + 2)\n",
    "        y = 8\n",
    "        \n",
    "    else:\n",
    "        x = int(7/2 * (int(key) - 1) + 2)\n",
    "        y = 21\n",
    "    seats_28[key] = [x, y]\n",
    "    \n",
    "n_ = 56\n",
    "seats_ = {str(i): 0 for i in range(n_)}\n",
    "seats_56 = seats_.copy()\n",
    "for key, val in seats_.items():\n",
    "    if int(key)%4 == 0:\n",
    "        x = int(7 * int(key)/4 + 2)\n",
    "        y = 3\n",
    "            \n",
    "    elif int(key)%4 == 1:\n",
    "        x = int(7 * (int(key) - 1)/4 + 2)\n",
    "        y = 16\n",
    "        \n",
    "    elif int(key)%4 == 2:\n",
    "        x = int(7 * int(key)/4 -1)\n",
    "        y = 8\n",
    "        \n",
    "    else:\n",
    "        x = int(7 * (int(key) - 1)/4 -1)\n",
    "        y = 21\n",
    "    seats_56[key] = [x, y]\n",
    "# ----------------------------------------------------------\n",
    "f_seats = {str(i): [] for i in range(n)}\n",
    "f_seats_28 = f_seats.copy()\n",
    "for key, val in seats.items(): \n",
    "    if int(key)%4 == 0:\n",
    "        x = math.floor(int(key)/2)  + math.floor(int(key)/6) + 1\n",
    "        y = 1\n",
    "            \n",
    "    elif int(key)%4 == 1:\n",
    "        x = math.floor(int(key)/2) + math.floor(int(key)/6) + 1\n",
    "        y = 4\n",
    "        \n",
    "    elif int(key)%4 == 2:\n",
    "        x = math.floor(int(key)/2) + math.floor(int(key)/6) + 1\n",
    "        y = 2\n",
    "        \n",
    "    else:\n",
    "        x = math.floor(int(key)/2) + math.floor(int(key)/6) + 1\n",
    "        y = 5\n",
    "    f_seats_28[key] = [x, y]\n",
    "    \n",
    "f_seats_ = {str(i): [] for i in range(n_)}\n",
    "f_seats_56 = f_seats_.copy()\n",
    "for key, val in f_seats_56.items():\n",
    "    if int(key)%4 == 0:\n",
    "        x = math.floor(int(key)/4)  + math.floor(int(key)/12) + 1\n",
    "        y = 1\n",
    "            \n",
    "    elif int(key)%4 == 1:\n",
    "        x = math.floor(int(key) - 1)/4  + math.floor((int(key) - 1)/12) + 1\n",
    "        y = 4\n",
    "        \n",
    "    elif int(key)%4 == 2:\n",
    "        x = math.floor(int(key)/4)  + math.floor(int(key)/12) + 1\n",
    "        y = 2\n",
    "        \n",
    "    else:\n",
    "        x = math.floor((int(key) -1)/4)  + math.floor((int(key) - 1)/12) + 1\n",
    "        y = 5\n",
    "    f_seats_56[key] = [int(x), int(y)]"
   ]
  },
  {
   "cell_type": "code",
   "execution_count": 5,
   "metadata": {},
   "outputs": [],
   "source": [
    "# LOCAL IMPORT\n",
    "# import data from other files\n",
    "from bus import bus_sim, trip_stats\n",
    "from classroom import func\n",
    "from infection import generate_infectivity_curves, plot_infectivity_curves, return_aerosol_transmission_rate\n",
    "\n",
    "\n",
    "\n",
    "# import functions from other files\n",
    "\n",
    "# import default parameters\n",
    "# bus_params = load_parameters('../config/bus_params.json')\n",
    "\n",
    "# class_params = load_parameters('../config/class_params.json')"
   ]
  },
  {
   "cell_type": "code",
   "execution_count": 6,
   "metadata": {
    "scrolled": true
   },
   "outputs": [
    {
     "data": {
      "image/png": "[encoded data removed]",
      "text/plain": [
       "<Figure size 432x288 with 1 Axes>"
      ]
     },
     "metadata": {
      "needs_background": "light"
     },
     "output_type": "display_data"
    },
    {
     "data": {
      "image/png": "[encoded data removed]",
      "text/plain": [
       "<Figure size 432x288 with 1 Axes>"
      ]
     },
     "metadata": {
      "needs_background": "light"
     },
     "output_type": "display_data"
    }
   ],
   "source": [
    "# INFECTION\n",
    "\n",
    "# plot % infectivity based on day- lognormal w/ % chance of infectivity\n",
    "\n",
    "proxy_vars = generate_infectivity_curves()\n",
    "out = plot_infectivity_curves(proxy_vars)\n",
    "# proxy_vars"
   ]
  },
  {
   "cell_type": "code",
   "execution_count": 7,
   "metadata": {},
   "outputs": [
    {
     "data": {
      "image/png": "[encoded data removed]",
      "text/plain": [
       "<Figure size 432x288 with 1 Axes>"
      ]
     },
     "metadata": {
      "needs_background": "light"
     },
     "output_type": "display_data"
    }
   ],
   "source": [
    "# print('max', max(out))\n",
    "# print('min', min(out))\n",
    "# print('mean', np.mean(out))\n",
    "dist_plot_x = np.arange(0, 3, 0.5)\n",
    "def chu(dist, inf):\n",
    "    return (1 / (2.02 ** dist)) * inf\n",
    "max_list = []\n",
    "min_list = []\n",
    "mean_list = []\n",
    "\n",
    "\n",
    "\n",
    "for i in dist_plot_x:\n",
    "    max_list.append(chu(i, max(out.gamma)))\n",
    "    min_list.append(chu(i, min(out.gamma)))\n",
    "    mean_list.append(chu(i, np.mean(out.gamma)))\n",
    "    \n",
    "\n",
    "df = pd.DataFrame({'meters': dist_plot_x, 'infectivity_max': max_list, 'infectivity_mean': mean_list, 'infectivity_min': min_list})\n",
    "\n",
    "plt.plot('meters', 'infectivity_max', data=df, marker='o', color='green', linewidth=4)\n",
    "plt.plot('meters', 'infectivity_mean', data=df, marker='', color='yellow', linewidth=4)\n",
    "plt.plot('meters', 'infectivity_min', data=df, marker='.', color='red', linewidth=4)    \n",
    "plt.legend()\n",
    "plt.xlabel('Meters from infective individual')\n",
    "plt.ylabel('Initial infectivity')\n",
    "\n",
    "\n",
    "# plt.show() \n",
    "plt.savefig(\"distance_infective.png\", dpi=300)\n",
    "# replace with plt.savefig()"
   ]
  },
  {
   "cell_type": "code",
   "execution_count": 8,
   "metadata": {},
   "outputs": [],
   "source": [
    "############ initialize variables\n",
    "\n",
    "# setup default infection parameters\n",
    "floor_area = 86.02  # ft2 # 11.4 m * 2.3 m * (m^2->ft^2) = 86.02 ~= 86 ft^2\n",
    "mean_ceiling_height = 12  # ft # 1.85 m -> ft = 6.06 ~= 6 ft\n",
    "air_exchange_rate = 20  # /hr (air changes per hour (ACH)) #moving bus mph average\n",
    "\n",
    "\n",
    "##Assumed Parameter Identified as 0.2 for Classrooms, 1.0 for outdoors#\n",
    "# and .5 for buses with windows open\n",
    "primary_outdoor_air_fraction = 0.5  # 1.0 = natural ventilation\n",
    "aerosol_filtration_eff = 0  # >0.9997 HEPA, =0.2-0.9 MERVs, =0 no filter\n",
    "\n",
    "#Average daily RH for San Diego is 69%\n",
    "relative_humidity = 0.69 \n",
    "physical_params = [floor_area, mean_ceiling_height, air_exchange_rate, primary_outdoor_air_fraction,\n",
    "                        aerosol_filtration_eff, relative_humidity]\n",
    "\n",
    "# Physiological Parameters\n",
    "breathing_flow_rate = 0.5  # m3/hr\n",
    "max_aerosol_radius = 2  # micrometers\n",
    "physio_params = [breathing_flow_rate, max_aerosol_radius]\n",
    "\n",
    "# Disease Parameters\n",
    "exhaled_air_inf = 30  # infection quanta/m3, changes with acitivity type.\n",
    "max_viral_deact_rate = 0.3  # /hr\n",
    "disease_params = [exhaled_air_inf, max_viral_deact_rate]\n",
    "\n",
    "# Precautionary Parameters\n",
    "mask_passage_prob = .1 # 1 = no masks, ~0.1 cloth, <0.05 N95\n",
    "risk_tolerance = 0.1  # expected transmissions per infector\n",
    "prec_params = [mask_passage_prob, risk_tolerance]\n",
    "############"
   ]
  },
  {
   "cell_type": "code",
   "execution_count": 9,
   "metadata": {},
   "outputs": [],
   "source": [
    "def get_neighbor_incoming(x, y, old):\n",
    "    neighb = []\n",
    "    count = 0\n",
    "    # flower petal arrow assumption:\n",
    "    # if arrow = directly towards, 50% of quanta will go from neighbor -> selected\n",
    "    for i in [-1, 0, 1]:\n",
    "        for j in [-1, 0, 1]:\n",
    "            count += 1\n",
    "            try:\n",
    "                direction = bus_flow_direction[x + i][y + j]\n",
    "                magnitude = bus_flow_velocity[x + i][y + j]\n",
    "                value = old[x + i][y + j]\n",
    "                this_val = old[x][y]\n",
    "                this_mag = bus_flow_velocity[x][y]\n",
    "\n",
    "                idx = direction_dict[count].index(direction)\n",
    "                this_val += (risk_dict[idx] * (magnitude + .1) * value)\n",
    "                new_val = this_val * magnitude_dict[this_mag]\n",
    "                neighb.append(new_val)\n",
    "            except:\n",
    "                neighb.append(0)\n",
    "    return neighb\n",
    "\n",
    "def air_effects(i, j, oldQ):\n",
    "    '''\n",
    "    i, j: x y locations\n",
    "\n",
    "    oldQ: old quanta at that cube\n",
    "\n",
    "    get neighbors directions and magnitude\n",
    "    determine % in and % out\n",
    "    '''\n",
    "    # windows\n",
    "    if j < 2 or j > 4:\n",
    "        new = oldQ * .85\n",
    "\n",
    "    # ceiling vents\n",
    "    if (i > 6 and i < 9) or (i > 12 and i < 15):\n",
    "        new = oldQ * .6\n",
    "    else:\n",
    "        new = 1.1 * oldQ\n",
    "    return new\n",
    "\n",
    "def make_new_heat(old, bus_pos, init_infected_ = None):\n",
    "    '''\n",
    "    1 minute step used to calculate concentration_distribution iteratively\n",
    "    '''\n",
    "    if init_infected_:\n",
    "        pass\n",
    "    else:\n",
    "        init_infected_ = np.random.choice(list(bus_pos.keys()))\n",
    "\n",
    "    ############## GET CORRECT FLOW POSITIONS *******\n",
    "\n",
    "    initial_loc = bus_pos[init_infected_]\n",
    "    new = old.copy()\n",
    "    out = old.copy()\n",
    "    for i in range(len(old)):\n",
    "        for j in range(len(old[i])):\n",
    "            dist = math.sqrt(((initial_loc[0] - i)**2) + (initial_loc[1] - j)**2)\n",
    "            new_val = old[i][j] + (1/(2.02 ** dist))\n",
    "            new[i][j] = new_val\n",
    "\n",
    "            ##################################################\n",
    "    for i in range(len(old)):\n",
    "        for j in range(len(old[i])):\n",
    "            neighbor_val = np.mean(get_neighbor_incoming(i, j, new))\n",
    "            air_val = air_effects(i, j, neighbor_val)\n",
    "            out[i][j] = air_val\n",
    "    return out, init_infected_\n",
    "\n",
    "bus_flow_direction = np.array([[1, 1, 1, 2, 3, 4, 4],\n",
    "              [1, 4, 7, 8, 9, 9, 6],\n",
    "              [4, 7, 7, 8, 9, 9, 6],\n",
    "              [4, 4, 5, 2, 5, 4, 4],\n",
    "              [8, 5, 5, 2, 5, 5, 8], #\n",
    "              [1, 1, 1, 2, 5, 6, 6],\n",
    "              [1, 1, 2, 2, 5, 6, 6],\n",
    "              [1, 1, 2, 2, 3, 3, 6],\n",
    "              [5, 5, 5, 2, 5, 5, 5],\n",
    "              [1, 1, 1, 2, 3, 3, 3], #\n",
    "              [1, 1, 2, 2, 2, 3, 3],\n",
    "              [1, 1, 2, 2, 2, 3, 3],\n",
    "              [1, 1, 2, 2, 2, 3, 3],\n",
    "              [1, 1, 2, 2, 2, 3, 3],\n",
    "              [1, 5, 5, 2, 2, 3, 3], #\n",
    "              [1, 1, 1, 2, 2, 3, 3],\n",
    "              [1, 1, 1, 2, 2, 3, 3],\n",
    "              [1, 1, 1, 2, 3, 6, 6],\n",
    "              [1, 1, 2, 2, 3, 3, 6],\n",
    "              [1, 2, 2, 2, 3, 3, 6], #\n",
    "              [4, 4, 4, 5, 6, 6, 6],\n",
    "              [2, 2, 2, 5, 5, 5, 5],\n",
    "              [2, 2, 5, 8, 2, 2, 2]])\n",
    "\n",
    "def concentration_distribution(num_steps, num_sims, bus_flow_pos):\n",
    "    '''\n",
    "    Simulate distribution of concentration after\n",
    "    30 steps\n",
    "    100 runs\n",
    "    random initial student/infectivity\n",
    "\n",
    "\n",
    "    '''\n",
    "    nothings = np.zeros(bus_flow_direction.shape)\n",
    "    temp, initial = make_new_heat(nothings, bus_flow_pos, init_infected_=None)\n",
    "    temp_array = []\n",
    "\n",
    "    for step in range(num_steps):\n",
    "        temp, initial = make_new_heat(temp, bus_flow_pos, init_infected_=None)\n",
    "        print(temp)\n",
    "        temp_array.append(temp)\n",
    "    print(len(temp_array))\n",
    "    return temp_array[-1]\n",
    "\n"
   ]
  },
  {
   "cell_type": "code",
   "execution_count": 10,
   "metadata": {},
   "outputs": [
    {
     "name": "stderr",
     "output_type": "stream",
     "text": [
      "C:\\Users\\Bailey\\AppData\\Local\\Packages\\PythonSoftwareFoundation.Python.3.8_qbz5n2kfra8p0\\LocalCache\\local-packages\\Python38\\site-packages\\numpy\\core\\fromnumeric.py:3372: RuntimeWarning: Mean of empty slice.\n",
      "  return _methods._mean(a, axis=axis, dtype=dtype,\n",
      "C:\\Users\\Bailey\\AppData\\Local\\Packages\\PythonSoftwareFoundation.Python.3.8_qbz5n2kfra8p0\\LocalCache\\local-packages\\Python38\\site-packages\\numpy\\core\\_methods.py:170: RuntimeWarning: invalid value encountered in double_scalars\n",
      "  ret = ret.dtype.type(ret / rcount)\n"
     ]
    },
    {
     "data": {
      "text/html": [
       "<div>\n",
       "<style scoped>\n",
       "    .dataframe tbody tr th:only-of-type {\n",
       "        vertical-align: middle;\n",
       "    }\n",
       "\n",
       "    .dataframe tbody tr th {\n",
       "        vertical-align: top;\n",
       "    }\n",
       "\n",
       "    .dataframe thead th {\n",
       "        text-align: right;\n",
       "    }\n",
       "</style>\n",
       "<table border=\"1\" class=\"dataframe\">\n",
       "  <thead>\n",
       "    <tr style=\"text-align: right;\">\n",
       "      <th></th>\n",
       "      <th>WinUp28</th>\n",
       "      <th>WinUp56</th>\n",
       "      <th>WinDown28</th>\n",
       "      <th>WinDown56</th>\n",
       "    </tr>\n",
       "  </thead>\n",
       "  <tbody>\n",
       "    <tr>\n",
       "      <th>100%</th>\n",
       "      <td>[up, 28, 1]</td>\n",
       "      <td>[up, 56, 1]</td>\n",
       "      <td>[down, 28, 1]</td>\n",
       "      <td>[down, 56, 1]</td>\n",
       "    </tr>\n",
       "    <tr>\n",
       "      <th>90%</th>\n",
       "      <td>[up, 28, 0.9]</td>\n",
       "      <td>[up, 56, 0.9]</td>\n",
       "      <td>[down, 28, 0.9]</td>\n",
       "      <td>[down, 56, 0.9]</td>\n",
       "    </tr>\n",
       "    <tr>\n",
       "      <th>80%</th>\n",
       "      <td>[up, 28, 0.8]</td>\n",
       "      <td>[up, 56, 0.8]</td>\n",
       "      <td>[down, 28, 0.8]</td>\n",
       "      <td>[down, 56, 0.8]</td>\n",
       "    </tr>\n",
       "  </tbody>\n",
       "</table>\n",
       "</div>"
      ],
      "text/plain": [
       "            WinUp28        WinUp56        WinDown28        WinDown56\n",
       "100%    [up, 28, 1]    [up, 56, 1]    [down, 28, 1]    [down, 56, 1]\n",
       "90%   [up, 28, 0.9]  [up, 56, 0.9]  [down, 28, 0.9]  [down, 56, 0.9]\n",
       "80%   [up, 28, 0.8]  [up, 56, 0.8]  [down, 28, 0.8]  [down, 56, 0.8]"
      ]
     },
     "execution_count": 10,
     "metadata": {},
     "output_type": "execute_result"
    }
   ],
   "source": [
    "# BUS\n",
    "\n",
    "# --> Airavata: implement ############# section ########## with user input instead of loop\n",
    "\n",
    "# initialize: parameter loops\n",
    "\n",
    "windows = ['up', 'down']\n",
    "num_students = [28, 56]\n",
    "masks = [1, .9, .8]\n",
    "num_sims = 10\n",
    "trip_length = 60\n",
    "\n",
    "\n",
    "# table output: % chance of >= 1 infection over 1 bus trip\n",
    "\n",
    "out_array = [[], [], []]\n",
    "final_array = [[], [], []]\n",
    "\n",
    "for w in range(len(windows)):\n",
    "\n",
    "    for n in range(len(num_students)):\n",
    "        \n",
    "        for m in range(len(masks)):\n",
    "            # windows up vs down # extrapolated from ACH ratio for open windows on bus\n",
    "            # and open vs closed windows in a classroom (prior research)\n",
    "            ##### verify this #####\n",
    "            if windows[w] == 'up': # effective ACH = 5\n",
    "                win_effect = 0.25\n",
    "            if windows[w] == 'down': # effective ACH = 20\n",
    "                win_effect = 1\n",
    "            # bus_aerosol moved to bus.py\n",
    "\n",
    "#             bus_aerosol = return_aerosol_transmission_rate(floor_area, mean_ceiling_height,\n",
    "#                                     air_exchange_rate * win_effect,\n",
    "#                                     aerosol_filtration_eff, relative_humidity, breathing_flow_rate,\n",
    "#                                     exhaled_air_inf, max_viral_deact_rate, mask_passage_prob,\n",
    "#                                     max_aerosol_radius=2, primary_outdoor_air_fraction=0.2)\n",
    "            \n",
    "            bus_trip, conc, chance_nonzero = bus_sim(windows[w], num_students[n], masks[m], num_sims, trip_length, '56')\n",
    "            # this is an array of transmission % for each student on the trip\n",
    "        \n",
    "            # reference array\n",
    "            out_array[m].append([windows[w],num_students[n],masks[m]]) # append value\n",
    "            final_array[m].append(chance_nonzero)\n",
    "        \n",
    "out_df = pd.DataFrame(out_array)\n",
    "out_df.columns = ['WinUp28', 'WinUp56', 'WinDown28', 'WinDown56']\n",
    "out_df.index = ['100%', '90%', '80%'] # mask wearing rate\n",
    "out_df\n",
    "\n",
    "# initialize: scatter\n",
    "\n",
    "# output: scatterplot of distance from initial (X) vs Likelihood of infection (Y)\n",
    "# Y: each point = 1 student, averaged over 100 reruns (random initial student, random infectivity)\n",
    "\n",
    "\n",
    "\n",
    "\n",
    "# initialize: close_neighbors\n",
    "\n",
    "# 5 students: KDEplot of % likelihood of infection over 1 trip\n"
   ]
  },
  {
   "cell_type": "code",
   "execution_count": 29,
   "metadata": {},
   "outputs": [
    {
     "data": {
      "text/plain": [
       "<AxesSubplot:ylabel='Density'>"
      ]
     },
     "execution_count": 29,
     "metadata": {},
     "output_type": "execute_result"
    },
    {
     "data": {
      "image/png": "[encoded data removed]",
      "text/plain": [
       "<Figure size 432x288 with 1 Axes>"
      ]
     },
     "metadata": {
      "needs_background": "light"
     },
     "output_type": "display_data"
    }
   ],
   "source": [
    "pd.Series(bus_trip).plot.kde()"
   ]
  },
  {
   "cell_type": "code",
   "execution_count": 60,
   "metadata": {},
   "outputs": [
    {
     "data": {
      "text/plain": [
       "(23, 7)"
      ]
     },
     "execution_count": 60,
     "metadata": {},
     "output_type": "execute_result"
    }
   ],
   "source": [
    "conc[0].shape"
   ]
  },
  {
   "cell_type": "code",
   "execution_count": 12,
   "metadata": {
    "scrolled": true
   },
   "outputs": [
    {
     "data": {
      "text/html": [
       "<div>\n",
       "<style scoped>\n",
       "    .dataframe tbody tr th:only-of-type {\n",
       "        vertical-align: middle;\n",
       "    }\n",
       "\n",
       "    .dataframe tbody tr th {\n",
       "        vertical-align: top;\n",
       "    }\n",
       "\n",
       "    .dataframe thead th {\n",
       "        text-align: right;\n",
       "    }\n",
       "</style>\n",
       "<table border=\"1\" class=\"dataframe\">\n",
       "  <thead>\n",
       "    <tr style=\"text-align: right;\">\n",
       "      <th></th>\n",
       "      <th>WinUp28</th>\n",
       "      <th>WinUp56</th>\n",
       "      <th>WinDown28</th>\n",
       "      <th>WinDown56</th>\n",
       "    </tr>\n",
       "  </thead>\n",
       "  <tbody>\n",
       "    <tr>\n",
       "      <th>100%</th>\n",
       "      <td>0.099575</td>\n",
       "      <td>0.204016</td>\n",
       "      <td>0.020840</td>\n",
       "      <td>0.064100</td>\n",
       "    </tr>\n",
       "    <tr>\n",
       "      <th>90%</th>\n",
       "      <td>0.111495</td>\n",
       "      <td>0.216094</td>\n",
       "      <td>0.031310</td>\n",
       "      <td>0.062491</td>\n",
       "    </tr>\n",
       "    <tr>\n",
       "      <th>80%</th>\n",
       "      <td>0.112470</td>\n",
       "      <td>0.216185</td>\n",
       "      <td>0.034236</td>\n",
       "      <td>0.051595</td>\n",
       "    </tr>\n",
       "  </tbody>\n",
       "</table>\n",
       "</div>"
      ],
      "text/plain": [
       "       WinUp28   WinUp56  WinDown28  WinDown56\n",
       "100%  0.099575  0.204016   0.020840   0.064100\n",
       "90%   0.111495  0.216094   0.031310   0.062491\n",
       "80%   0.112470  0.216185   0.034236   0.051595"
      ]
     },
     "execution_count": 12,
     "metadata": {},
     "output_type": "execute_result"
    }
   ],
   "source": [
    "final_df = pd.DataFrame(final_array)\n",
    "final_df.columns =['WinUp28', 'WinUp56', 'WinDown28', 'WinDown56']\n",
    "final_df.index = ['100%', '90%', '80%'] # mask wearing rate\n",
    "final_df"
   ]
  },
  {
   "cell_type": "code",
   "execution_count": 77,
   "metadata": {},
   "outputs": [
    {
     "data": {
      "image/png": "[encoded data removed]",
      "text/plain": [
       "<Figure size 432x288 with 10 Axes>"
      ]
     },
     "metadata": {},
     "output_type": "display_data"
    }
   ],
   "source": [
    "fig, axs = plt.subplots((math.floor(len(conc) / 5)), (math.floor(len(conc) / 2)), edgecolor='k')\n",
    "\n",
    "axs = axs.ravel()\n",
    "avg_array = []\n",
    "out_matrix = np.array(np.zeros(shape=conc[c].shape))\n",
    "\n",
    "for c in range(len(conc)):\n",
    "    axs[c].matshow(conc[c])\n",
    "    axs[c].tick_params(top=False, bottom=False, left=False, right=False,\n",
    "                labelleft=False, labelbottom=False, labeltop=False)\n",
    "    axs[c].set_title(c)\n",
    "    for y in range(conc[c].shape[0]):\n",
    "        for x in range(conc[c].shape[1]):\n",
    "            out_matrix[y][x] += (conc[c][y][x] / len(conc))\n",
    "            "
   ]
  },
  {
   "cell_type": "code",
   "execution_count": 79,
   "metadata": {},
   "outputs": [
    {
     "data": {
      "text/plain": [
       "<matplotlib.image.AxesImage at 0x1c8e084e610>"
      ]
     },
     "execution_count": 79,
     "metadata": {},
     "output_type": "execute_result"
    },
    {
     "data": {
      "image/png": "[encoded data removed]",
      "text/plain": [
       "<Figure size 288x946.286 with 1 Axes>"
      ]
     },
     "metadata": {
      "needs_background": "light"
     },
     "output_type": "display_data"
    }
   ],
   "source": [
    "plt.matshow(out_matrix)"
   ]
  },
  {
   "cell_type": "code",
   "execution_count": null,
   "metadata": {},
   "outputs": [],
   "source": []
  }
 ],
 "metadata": {
  "kernelspec": {
   "display_name": "Python 3",
   "language": "python",
   "name": "python3"
  },
  "language_info": {
   "codemirror_mode": {
    "name": "ipython",
    "version": 3
   },
   "file_extension": ".py",
   "mimetype": "text/x-python",
   "name": "python",
   "nbconvert_exporter": "python",
   "pygments_lexer": "ipython3",
   "version": "3.8.8"
  }
 },
 "nbformat": 4,
 "nbformat_minor": 4
}

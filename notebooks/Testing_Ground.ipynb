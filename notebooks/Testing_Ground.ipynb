{
 "cells": [
  {
   "cell_type": "code",
   "execution_count": 4,
   "metadata": {},
   "outputs": [],
   "source": [
    "import matplotlib.pyplot as plt\n",
    "import numpy as np\n",
    "import pandas as pd\n",
    "from tempfile import TemporaryFile"
   ]
  },
  {
   "cell_type": "code",
   "execution_count": 20,
   "metadata": {},
   "outputs": [
    {
     "ename": "SyntaxError",
     "evalue": "invalid syntax (<ipython-input-20-a19352e9e196>, line 12)",
     "output_type": "error",
     "traceback": [
      "\u001b[1;36m  File \u001b[1;32m\"<ipython-input-20-a19352e9e196>\"\u001b[1;36m, line \u001b[1;32m12\u001b[0m\n\u001b[1;33m    student_positions =\u001b[0m\n\u001b[1;37m                        ^\u001b[0m\n\u001b[1;31mSyntaxError\u001b[0m\u001b[1;31m:\u001b[0m invalid syntax\n"
     ]
    }
   ],
   "source": [
    "# make an n x n grid\n",
    "def gridmaker(room_len, room_width, num_people = 0, type='bus'): # values in m\n",
    "    # make .1m x .1m square grid for room size, space people apart\n",
    "    # TODO: talk to Farhoud about inputs\n",
    "    \n",
    "    nrows, ncols = room_len, room_width\n",
    "    \n",
    "    # left chairs are 0-9, gap is 10-12, right chairs are 13-23\n",
    "    \n",
    "#     left_chairs =\n",
    "    \n",
    "    student_positions = \n",
    "    \n",
    "    image = np.zeros(nrows*ncols)\n",
    "    image[::2] = np.random.random(nrows*ncols //2 + 1)\n",
    "    image = image.reshape((ncols, nrows))\n",
    "    print(image[0])#[0])\n",
    "    \n",
    "    \n",
    "    plt.matshow(image)\n",
    "    plt.show()"
   ]
  },
  {
   "cell_type": "code",
   "execution_count": 21,
   "metadata": {},
   "outputs": [
    {
     "ename": "NameError",
     "evalue": "name 'gridmaker' is not defined",
     "output_type": "error",
     "traceback": [
      "\u001b[1;31m---------------------------------------------------------------------------\u001b[0m",
      "\u001b[1;31mNameError\u001b[0m                                 Traceback (most recent call last)",
      "\u001b[1;32m<ipython-input-21-fee79a850121>\u001b[0m in \u001b[0;36m<module>\u001b[1;34m\u001b[0m\n\u001b[1;32m----> 1\u001b[1;33m \u001b[0mgridmaker\u001b[0m\u001b[1;33m(\u001b[0m\u001b[1;36m23\u001b[0m\u001b[1;33m,\u001b[0m \u001b[1;36m63\u001b[0m\u001b[1;33m)\u001b[0m\u001b[1;33m\u001b[0m\u001b[1;33m\u001b[0m\u001b[0m\n\u001b[0m",
      "\u001b[1;31mNameError\u001b[0m: name 'gridmaker' is not defined"
     ]
    }
   ],
   "source": [
    "gridmaker(23, 63)"
   ]
  },
  {
   "cell_type": "code",
   "execution_count": 25,
   "metadata": {},
   "outputs": [
    {
     "data": {
      "text/plain": [
       "<matplotlib.image.AxesImage at 0x2c8dcccde20>"
      ]
     },
     "execution_count": 25,
     "metadata": {},
     "output_type": "execute_result"
    },
    {
     "data": {
      "image/png": "[encoded data removed]",
      "text/plain": [
       "<Figure size 288x946.286 with 1 Axes>"
      ]
     },
     "metadata": {
      "needs_background": "light"
     },
     "output_type": "display_data"
    }
   ],
   "source": [
    "# numpy array of bus vectors\n",
    "outfile = TemporaryFile()\n",
    "\n",
    "# also look at single-sided and double it for a more accurate overall? do tomorrow\n",
    "\n",
    "# this uses double-sided airflow sim from https://www.ias.ac.in/article/fulltext/sadh/032/04/0347-0363\n",
    "# Page 12/17 (358)\n",
    "# 23 x 7 array to cast to 69 x 21 using 3 x 3 squares\n",
    "bus_flow_direction = np.array([[1, 1, 1, 2, 3, 4, 4],\n",
    "              [1, 4, 7, 8, 9, 9, 6],\n",
    "              [4, 7, 7, 8, 9, 9, 6],\n",
    "              [4, 4, 5, 2, 5, 4, 4],\n",
    "              [8, 5, 5, 2, 5, 5, 8], #\n",
    "              [1, 1, 1, 2, 5, 6, 6],\n",
    "              [1, 1, 2, 2, 5, 6, 6],\n",
    "              [1, 1, 2, 2, 3, 3, 6],\n",
    "              [5, 5, 5, 2, 5, 5, 5],\n",
    "              [1, 1, 1, 2, 3, 3, 3], #\n",
    "              [1, 1, 2, 2, 2, 3, 3],\n",
    "              [1, 1, 2, 2, 2, 3, 3],\n",
    "              [1, 1, 2, 2, 2, 3, 3],\n",
    "              [1, 1, 2, 2, 2, 3, 3],\n",
    "              [1, 5, 5, 2, 2, 3, 3], #\n",
    "              [1, 1, 1, 2, 2, 3, 3],\n",
    "              [1, 1, 1, 2, 2, 3, 3],\n",
    "              [1, 1, 1, 2, 3, 6, 6],\n",
    "              [1, 1, 2, 2, 3, 3, 6],\n",
    "              [1, 2, 2, 2, 3, 3, 6], #\n",
    "              [4, 4, 4, 5, 6, 6, 6],\n",
    "              [2, 2, 2, 5, 5, 5, 5],\n",
    "              [2, 2, 5, 8, 2, 2, 2]])\n",
    "\n",
    "bus_flow_velocity = np.array([[3,3,2,1,1,0,1],\n",
    "    [1,0,1,2,3,2,2],\n",
    "    [1,2,1,0,1,2,2],\n",
    "    [2,1,0,0,0,1,1],\n",
    "    [2,1,0,0,0,1,1], #\n",
    "    [2,1,0,0,0,0,1],\n",
    "    [1,1,0,0,0,0,1],\n",
    "    [1,2,1,1,0,0,0],\n",
    "    [0,1,2,1,0,1,2],\n",
    "    [0,0,0,0,0,0,1], #\n",
    "    [2,2,2,2,2,1,1],\n",
    "    [3,2,2,2,2,2,2],\n",
    "    [2,0,0,0,0,1,2],\n",
    "    [1,2,2,2,2,2,1],\n",
    "    [1,1,2,2,2,1,1], #\n",
    "    [1,1,2,2,2,1,1],\n",
    "    [1,1,1,1,1,1,1],\n",
    "    [2,2,2,2,2,2,2],\n",
    "    [2,2,3,3,3,2,2],\n",
    "    [1,1,2,2,2,1,1], #\n",
    "    [1,1,2,2,2,1,1],\n",
    "    [1,1,1,1,1,1,1],\n",
    "    [1,1,1,1,0,0,0],\n",
    "    [1,1,0,0,0,0,0]])\n",
    "\n",
    "estimated_bus_risk = np.array([[1, 1, 2, 2, 2, 1, 1],\n",
    "              [1, 2, 1, 3, 2, 4, 2],\n",
    "              [2, 1, 1, 4, 3, 3, 2],\n",
    "              [4, 3, 5, 3, 4, 4, 4],\n",
    "              [3, 4, 3, 4, 2, 4, 5], #\n",
    "              [3, 1, 1, 4, 5, 6, 6],\n",
    "              [2, 1, 2, 5, 5, 6, 6],\n",
    "              [1, 1, 2, 5, 3, 3, 6],\n",
    "              [3, 5, 5, 5, 4, 6, 5],\n",
    "              [1, 1, 1, 4, 3, 3, 3], #\n",
    "              [1, 1, 2, 4, 2, 4, 2],\n",
    "              [1, 1, 2, 4, 2, 3, 3],\n",
    "              [1, 1, 2, 4, 5, 2, 1],\n",
    "              [1, 1, 2, 5, 4, 3, 3],\n",
    "              [2, 5, 5, 5, 3, 3, 3], #\n",
    "              [1, 1, 1, 4, 3, 3, 3],\n",
    "              [2, 1, 1, 5, 4, 5, 3],\n",
    "              [1, 1, 1, 4, 3, 3, 6],\n",
    "              [1, 2, 4, 5, 3, 4, 2],\n",
    "              [1, 2, 3, 4, 4, 3, 2], #\n",
    "              [3, 2, 3, 5, 4, 3, 2],\n",
    "              [2, 2, 2, 4, 5, 5, 5],\n",
    "              [2, 2, 5, 4, 2, 2, 2]])\n",
    "\n",
    "# Key: Phone # pad:\n",
    "# 789\n",
    "# 456\n",
    "# 123\n",
    "#  0\n",
    "# Therefore:\n",
    "# 7 = <^, 8 = ^, 9 = ^>\n",
    "# 4 = <, 5 = ., 6 = >\n",
    "# 1 = <v, 2 = v, 3 = v>\n",
    "# with open('test.npy', 'wb') as f:\n",
    "#     np.save(f, x)\n",
    "# with open('test.npy', 'rb') as f:\n",
    "#     out = np.load(f)\n",
    "# print(out)\n",
    "# inf_students_x = [0, 6]\n",
    "# inf_students_y = [3, 5]\n",
    "other_x = [2, 0, 2, 0, 4, 6, 4, 6]\n",
    "other_y = [8, 13, 18, 3, 5, 10, 15, 20]\n",
    "bus_x = 1\n",
    "bus_y = 1\n",
    "\n",
    "plt.matshow(estimated_bus_risk)\n",
    "# plt.scatter(inf_students_x, inf_students_y, c=['red'])\n",
    "# plt.scatter(other_x, other_y, c='yellow')\n",
    "# plt.scatter(bus_x, bus_y, c=['blue'])\n",
    "# plt.show()"
   ]
  },
  {
   "cell_type": "code",
   "execution_count": 24,
   "metadata": {},
   "outputs": [
    {
     "name": "stdout",
     "output_type": "stream",
     "text": [
      "2 [0.5, 0.5, 0.0, 0.5, 1.5, -1.0, -0.5, -0.5, -1.0, -0.5, 1.0, 2.5, 2.0, 2.0, -0.5, 0.0, -0.5, 0.0, 1.5, 2.0, 2.0, 0.0, -0.5, 0.0, 0.0, 0.0, -0.5, -0.5, 1.0, 0.5, 0.0, 0.0, 0.0, 0.5, 0.5, 0.0, -0.5, -1.0, 0.0, 0.0, 1.0, 1.5, -0.5, -0.5, 0.0, 0.0, 0.0, 1.0, 1.5, -0.5, 0.0, 0.5, 0.5, 1.0, 1.0, 1.0, 0.0, 0.5, 1.0, 0.5, 0.0, 0.5, 1.0, -1.0, -1.0, -1.0, 0.0, 1.0, 1.0, 1.5, 0.0, 0.0, 1.0, 1.0, 1.0, 1.5, 1.5, 0.5, 0.0, 1.0, 1.0, 1.0, 2.0, 2.0, 0.0, -1.0, 0.0, 0.0, 0.0, 1.5, 2.0, -0.5, 0.0, 1.0, 1.0, 1.0, 2.0, 1.5, -0.5, 0.5, 1.0, 1.0, 1.0, 1.5, 1.5, -0.5, -0.5, 0.0, 1.0, 1.0, 1.5, 1.5, -0.5, -0.5, -0.5, 0.5, 0.5, 1.5, 1.5, 0.0, 0.0, 0.0, 1.0, 2.0, 2.0, 2.0, 0.0, 0.0, 1.5, 1.5, 2.5, 2.0, 2.0, -0.5, 0.5, 1.0, 1.0, 2.0, 1.5, 1.5, -0.5, -0.5, 0.0, 1.0, 2.0, 1.5, 1.5, 0.5, 0.5, 0.5, 0.5, 0.5, 0.5, 0.5, 0.5, 0.5, 0.5, 0.5, 0.0, 0.0, 0.0]\n"
     ]
    },
    {
     "data": {
      "text/plain": [
       "<matplotlib.image.AxesImage at 0x2c8dc45c9a0>"
      ]
     },
     "execution_count": 24,
     "metadata": {},
     "output_type": "execute_result"
    },
    {
     "data": {
      "image/png": "[encoded data removed]",
      "text/plain": [
       "<Figure size 432x288 with 1 Axes>"
      ]
     },
     "metadata": {
      "needs_background": "light"
     },
     "output_type": "display_data"
    },
    {
     "data": {
      "image/png": "[encoded data removed]",
      "text/plain": [
       "<Figure size 288x946.286 with 1 Axes>"
      ]
     },
     "metadata": {
      "needs_background": "light"
     },
     "output_type": "display_data"
    },
    {
     "data": {
      "image/png": "[encoded data removed]",
      "text/plain": [
       "<Figure size 288x987.429 with 1 Axes>"
      ]
     },
     "metadata": {
      "needs_background": "light"
     },
     "output_type": "display_data"
    }
   ],
   "source": [
    "# numpy 2d array of student locations in bus w/ ~30% of trips\n",
    "# X, Y, U, V\n",
    "X = np.arange(3, 23, 3)\n",
    "Y = np.arange(3, 63, 3) # 1 square = .1 m : edit [22] to the length of selected bus type\n",
    "direction_dict = {\n",
    "    1: [-1, -1], # forward and right IRL = left and down in image\n",
    "    2: [0, -1], # down\n",
    "    3: [1, -1], # down right\n",
    "    4: [-1, 0], # left\n",
    "    5: [0, 0], # static\n",
    "    6: [1, 0], # right\n",
    "    7: [-1, 1], # up left\n",
    "    8: [0, 1], # up\n",
    "    9: [1, 1] # up right\n",
    "}\n",
    "def apply_flow(direction, velocity):\n",
    "    x= direction_dict[direction][0]\n",
    "    y = direction_dict[direction][1]\n",
    "    dx = x + velocity / 2\n",
    "    dy = y + velocity / 2\n",
    "    return dx, dy\n",
    "dx_list = []\n",
    "dy_list = []\n",
    "for i in range(len(bus_flow_direction)): # rows\n",
    "    for j in range(len(bus_flow_direction[0])): # columns\n",
    "#         print(i, j)\n",
    "        X = bus_flow_direction[i][j]\n",
    "        Y = bus_flow_velocity[i][j]\n",
    "        dx, dy = apply_flow(X, Y)\n",
    "        dx_list.append(dx)\n",
    "        dy_list.append(dy)\n",
    "        plt.arrow(Y, X, dy, dx, head_width=.2)\n",
    "print(X, dx_list)\n",
    "plt.title('Air flow on a model bus')\n",
    "plt.matshow(bus_flow_direction)\n",
    "plt.matshow(bus_flow_velocity)\n",
    "\n",
    "# plt.show()\n"
   ]
  },
  {
   "cell_type": "code",
   "execution_count": 15,
   "metadata": {},
   "outputs": [],
   "source": [
    "# 0-9\n",
    "\n",
    "# 7 8 9\n",
    "# 4 5 6\n",
    "# 1 2 3\n",
    "#   0\n",
    "    \n",
    "#     .3x.3 m sq\n",
    "# <^ < <^\n",
    "# <^ <^ <^\n",
    "# <^ <^ <^^\n",
    "# v> v> v>\n",
    "# v> v> v>\n",
    "# v> v> v>\n"
   ]
  },
  {
   "cell_type": "code",
   "execution_count": 16,
   "metadata": {},
   "outputs": [],
   "source": [
    "# To use this mask, apply it at every step to the expanding aerosols from each potential infectee\n",
    "def aerosol_clouds(num_steps=12):\n",
    "    # This function generates and spreads 'clouds' of potentially infected air\n",
    "    # at each step, virus spreads outwards in all directions\n",
    "    \n",
    "    # get student positions\n",
    "    \n",
    "    # at each step:\n",
    "    # mask_passage_prob = 10 units = no mask: \n",
    "    # 10 units * inf.mask_passage_prob\n",
    "    # round this number to get horizontal squares to spread: fill all in circle with +1 at each step\n",
    "    \n",
    "    \n",
    "    # TODO: implement student positions\n",
    "    \n",
    "    # loop through steps\n",
    "    \n",
    "    # apply aerosol spread + ventilation motion\n",
    "    \n",
    "    \n",
    "    # TODO: implement barriers\n",
    "    \n",
    "    # returns a matrix of 'relative risk' that starts as [[00000]]\n",
    "    return "
   ]
  },
  {
   "cell_type": "code",
   "execution_count": 17,
   "metadata": {},
   "outputs": [
    {
     "data": {
      "text/plain": [
       "(23, 7)"
      ]
     },
     "execution_count": 17,
     "metadata": {},
     "output_type": "execute_result"
    }
   ],
   "source": [
    "estimated_bus_risk.shape"
   ]
  },
  {
   "cell_type": "code",
   "execution_count": 18,
   "metadata": {},
   "outputs": [
    {
     "ename": "SyntaxError",
     "evalue": "invalid syntax (<ipython-input-18-455680ca2399>, line 1)",
     "output_type": "error",
     "traceback": [
      "\u001b[1;36m  File \u001b[1;32m\"<ipython-input-18-455680ca2399>\"\u001b[1;36m, line \u001b[1;32m1\u001b[0m\n\u001b[1;33m    def\u001b[0m\n\u001b[1;37m        ^\u001b[0m\n\u001b[1;31mSyntaxError\u001b[0m\u001b[1;31m:\u001b[0m invalid syntax\n"
     ]
    }
   ],
   "source": [
    "def \n"
   ]
  },
  {
   "cell_type": "code",
   "execution_count": 19,
   "metadata": {},
   "outputs": [
    {
     "ename": "SyntaxError",
     "evalue": "unexpected EOF while parsing (<ipython-input-19-42a3cf46a685>, line 4)",
     "output_type": "error",
     "traceback": [
      "\u001b[1;36m  File \u001b[1;32m\"<ipython-input-19-42a3cf46a685>\"\u001b[1;36m, line \u001b[1;32m4\u001b[0m\n\u001b[1;33m    \u001b[0m\n\u001b[1;37m    ^\u001b[0m\n\u001b[1;31mSyntaxError\u001b[0m\u001b[1;31m:\u001b[0m unexpected EOF while parsing\n"
     ]
    }
   ],
   "source": [
    "steps = 12\n",
    "\n",
    "for i in range(steps):\n",
    "    "
   ]
  },
  {
   "cell_type": "code",
   "execution_count": null,
   "metadata": {},
   "outputs": [],
   "source": []
  },
  {
   "cell_type": "code",
   "execution_count": null,
   "metadata": {},
   "outputs": [],
   "source": []
  }
 ],
 "metadata": {
  "kernelspec": {
   "display_name": "Python 3",
   "language": "python",
   "name": "python3"
  },
  "language_info": {
   "codemirror_mode": {
    "name": "ipython",
    "version": 3
   },
   "file_extension": ".py",
   "mimetype": "text/x-python",
   "name": "python",
   "nbconvert_exporter": "python",
   "pygments_lexer": "ipython3",
   "version": "3.8.8"
  }
 },
 "nbformat": 4,
 "nbformat_minor": 4
}

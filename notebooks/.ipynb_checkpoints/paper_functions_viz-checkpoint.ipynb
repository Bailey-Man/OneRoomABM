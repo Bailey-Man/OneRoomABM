{
 "cells": [
  {
   "cell_type": "code",
   "execution_count": 1,
   "metadata": {},
   "outputs": [],
   "source": [
    "# imports\n",
    "import math\n",
    "import numpy as np\n",
    "import pandas as pd\n",
    "from scipy import stats\n",
    "import random\n",
    "import matplotlib.pyplot as plt\n",
    "import matplotlib as mpl\n",
    "# import mayavi.mlab as mlab\n",
    "import seaborn as sns\n",
    "\n",
    "import sys\n",
    "import json\n",
    "import shutil"
   ]
  },
  {
   "cell_type": "code",
   "execution_count": 2,
   "metadata": {},
   "outputs": [],
   "source": [
    "def load_parameters(filepath):\n",
    "    '''\n",
    "    Loads input and output directories\n",
    "    '''\n",
    "    with open(filepath) as fp:\n",
    "        parameter = json.load(fp)\n",
    "\n",
    "    return parameter\n",
    "\n",
    "sys.path.insert(0, '../src')"
   ]
  },
  {
   "cell_type": "code",
   "execution_count": 3,
   "metadata": {
    "scrolled": true
   },
   "outputs": [],
   "source": [
    "# Seating_chart_builder\n",
    "\n",
    "# n = 28\n",
    "# seats = {str(i): 0 for i in range(n)}\n",
    "# seats_28 = seats.copy()\n",
    "# for key, val in seats.items():    \n",
    "#     if int(key)%4 == 0:\n",
    "#         x = int(7/2 * int(key) + 2)\n",
    "#         y = 3\n",
    "            \n",
    "#     elif int(key)%4 == 1:\n",
    "#         x = int(7/2 * (int(key) - 1) + 2)\n",
    "#         y = 16\n",
    "        \n",
    "#     elif int(key)%4 == 2:\n",
    "#         x = int(7/2 * int(key) + 2)\n",
    "#         y = 8\n",
    "        \n",
    "#     else:\n",
    "#         x = int(7/2 * (int(key) - 1) + 2)\n",
    "#         y = 21\n",
    "#     seats_28[key] = [x, y]\n",
    "    \n",
    "n_ = 56\n",
    "seats_ = {str(i): 0 for i in range(n_)}\n",
    "seats_56 = seats_.copy()\n",
    "for key, val in seats_.items():\n",
    "    if int(key)%4 == 0:\n",
    "        x = int(7 * int(key)/4 + 2)\n",
    "        y = 3\n",
    "            \n",
    "    elif int(key)%4 == 1:\n",
    "        x = int(7 * (int(key) - 1)/4 + 2)\n",
    "        y = 16\n",
    "        \n",
    "    elif int(key)%4 == 2:\n",
    "        x = int(7 * int(key)/4 -1)\n",
    "        y = 8\n",
    "        \n",
    "    else:\n",
    "        x = int(7 * (int(key) - 1)/4 -1)\n",
    "        y = 21\n",
    "    seats_56[key] = [x, y]\n",
    "# ----------------------------------------------------------\n",
    "f_seats = {str(i): [] for i in range(56)}\n",
    "f_seats_28 = f_seats.copy()\n",
    "for key, val in f_seats.items(): \n",
    "    if int(key)%4 == 0:\n",
    "        x = math.floor(int(key)/2)  + math.floor(int(key)/6) + 1\n",
    "        y = 1\n",
    "            \n",
    "    elif int(key)%4 == 1:\n",
    "        x = math.floor(int(key)/2) + math.floor(int(key)/6) + 1\n",
    "        y = 4\n",
    "        \n",
    "    elif int(key)%4 == 2:\n",
    "        x = math.floor(int(key)/2) + math.floor(int(key)/6) + 1\n",
    "        y = 2\n",
    "        \n",
    "    else:\n",
    "        x = math.floor(int(key)/2) + math.floor(int(key)/6) + 1\n",
    "        y = 5\n",
    "    f_seats_28[key] = [x, y]\n",
    "    \n",
    "f_seats_ = {str(i): [] for i in range(n_)}\n",
    "f_seats_56 = f_seats_.copy()\n",
    "for key, val in f_seats_56.items():\n",
    "    if int(key)%4 == 0:\n",
    "        x = math.floor(int(key)/4)  + math.floor(int(key)/12) + 1\n",
    "        y = 1\n",
    "            \n",
    "    elif int(key)%4 == 1:\n",
    "        x = math.floor(int(key) - 1)/4  + math.floor((int(key) - 1)/12) + 1\n",
    "        y = 4\n",
    "        \n",
    "    elif int(key)%4 == 2:\n",
    "        x = math.floor(int(key)/4)  + math.floor(int(key)/12) + 1\n",
    "        y = 2\n",
    "        \n",
    "    else:\n",
    "        x = math.floor((int(key) -1)/4)  + math.floor((int(key) - 1)/12) + 1\n",
    "        y = 5\n",
    "    f_seats_56[key] = [int(x), int(y)]\n",
    "    \n",
    "    "
   ]
  },
  {
   "cell_type": "code",
   "execution_count": 2,
   "metadata": {},
   "outputs": [
    {
     "data": {
      "text/plain": [
       "{'0': [0, 1],\n",
       " '1': [0, 1],\n",
       " '2': [0, 1],\n",
       " '3': [0, 1],\n",
       " '4': [4, 1],\n",
       " '5': [4, 1],\n",
       " '6': [4, 1],\n",
       " '7': [4, 1],\n",
       " '8': [8, 1],\n",
       " '9': [8, 1],\n",
       " '10': [8, 1],\n",
       " '11': [8, 1],\n",
       " '12': [12, 1],\n",
       " '13': [12, 1],\n",
       " '14': [12, 1],\n",
       " '15': [12, 1],\n",
       " '16': [16, 1],\n",
       " '17': [16, 1],\n",
       " '18': [16, 1],\n",
       " '19': [16, 1],\n",
       " '20': [20, 1],\n",
       " '21': [20, 1],\n",
       " '22': [20, 1],\n",
       " '23': [20, 1],\n",
       " '24': [24, 1],\n",
       " '25': [24, 1],\n",
       " '26': [24, 1],\n",
       " '27': [24, 1],\n",
       " '28': [28, 1],\n",
       " '29': [28, 1],\n",
       " '30': [28, 1],\n",
       " '31': [28, 1],\n",
       " '32': [32, 1],\n",
       " '33': [32, 1],\n",
       " '34': [32, 1],\n",
       " '35': [32, 1],\n",
       " '36': [36, 1],\n",
       " '37': [36, 1],\n",
       " '38': [36, 1],\n",
       " '39': [36, 1],\n",
       " '40': [40, 1],\n",
       " '41': [40, 1],\n",
       " '42': [40, 1],\n",
       " '43': [40, 1],\n",
       " '44': [44, 1],\n",
       " '45': [44, 1],\n",
       " '46': [44, 1],\n",
       " '47': [44, 1],\n",
       " '48': [48, 1],\n",
       " '49': [48, 1],\n",
       " '50': [48, 1],\n",
       " '51': [48, 1],\n",
       " '52': [52, 1],\n",
       " '53': [52, 1],\n",
       " '54': [52, 1],\n",
       " '55': [52, 1]}"
      ]
     },
     "execution_count": 2,
     "metadata": {},
     "output_type": "execute_result"
    }
   ],
   "source": [
    "full_occupancy_seats = {str(i): [] for i in range(56)}\n",
    "zigzag_seats = {str(i): [] for i in range(56)}\n",
    "window_seats = {str(i): [] for i in range(56)}\n",
    "\n",
    "for key, val in full_occupancy_seats.items():\n",
    "    if int(key) % 4 == 0:\n",
    "        \n",
    "        x = math.floor(int(key) / 4)\n",
    "        y = 1\n",
    "    \n",
    "    full_occupancy_seats[key] = [int(x), int(y)]\n",
    "full_occupancy_seats"
   ]
  },
  {
   "cell_type": "code",
   "execution_count": 4,
   "metadata": {},
   "outputs": [],
   "source": [
    "# LOCAL IMPORT\n",
    "# import data from other files\n",
    "from bus import bus_sim\n",
    "from classroom import func\n",
    "from infection import generate_infectivity_curves, plot_infectivity_curves, return_aerosol_transmission_rate"
   ]
  },
  {
   "cell_type": "code",
   "execution_count": 5,
   "metadata": {
    "scrolled": true
   },
   "outputs": [
    {
     "data": {
      "image/png": "[encoded data removed]",
      "text/plain": [
       "<Figure size 432x288 with 1 Axes>"
      ]
     },
     "metadata": {
      "needs_background": "light"
     },
     "output_type": "display_data"
    },
    {
     "data": {
      "image/png": "[encoded data removed]",
      "text/plain": [
       "<Figure size 432x288 with 1 Axes>"
      ]
     },
     "metadata": {
      "needs_background": "light"
     },
     "output_type": "display_data"
    }
   ],
   "source": [
    "# INFECTION\n",
    "\n",
    "# plot % infectivity based on day- lognormal w/ % chance of infectivity\n",
    "\n",
    "proxy_vars = generate_infectivity_curves()\n",
    "out = plot_infectivity_curves(proxy_vars)\n",
    "# proxy_vars"
   ]
  },
  {
   "cell_type": "code",
   "execution_count": 6,
   "metadata": {},
   "outputs": [
    {
     "data": {
      "image/png": "[encoded data removed]",
      "text/plain": [
       "<Figure size 432x288 with 1 Axes>"
      ]
     },
     "metadata": {
      "needs_background": "light"
     },
     "output_type": "display_data"
    }
   ],
   "source": [
    "# print('max', max(out))\n",
    "# print('min', min(out))\n",
    "# print('mean', np.mean(out))\n",
    "dist_plot_x = np.arange(0, 3, 0.5)\n",
    "def chu(dist, inf):\n",
    "    return (1 / (2.02 ** dist)) * inf\n",
    "max_list = []\n",
    "min_list = []\n",
    "mean_list = []\n",
    "\n",
    "\n",
    "\n",
    "for i in dist_plot_x:\n",
    "    max_list.append(chu(i, max(out.gamma)))\n",
    "    min_list.append(chu(i, min(out.gamma)))\n",
    "    mean_list.append(chu(i, np.mean(out.gamma)))\n",
    "    \n",
    "\n",
    "df = pd.DataFrame({'meters': dist_plot_x, 'infectivity_max': max_list, 'infectivity_mean': mean_list, 'infectivity_min': min_list})\n",
    "\n",
    "plt.plot('meters', 'infectivity_max', data=df, marker='o', color='green', linewidth=4)\n",
    "plt.plot('meters', 'infectivity_mean', data=df, marker='', color='yellow', linewidth=4)\n",
    "plt.plot('meters', 'infectivity_min', data=df, marker='.', color='red', linewidth=4)    \n",
    "plt.legend()\n",
    "plt.xlabel('Meters from infective individual')\n",
    "plt.ylabel('Initial infectivity')\n",
    "\n",
    "\n",
    "# plt.show() \n",
    "plt.savefig(\"distance_infective.png\", dpi=300)\n",
    "# replace with plt.savefig()"
   ]
  },
  {
   "cell_type": "code",
   "execution_count": 7,
   "metadata": {},
   "outputs": [],
   "source": [
    "############ initialize variables\n",
    "\n",
    "# setup default infection parameters\n",
    "floor_area = 86.02  # ft2 # 11.4 m * 2.3 m * (m^2->ft^2) = 86.02 ~= 86 ft^2\n",
    "mean_ceiling_height = 12  # ft # 1.85 m -> ft = 6.06 ~= 6 ft\n",
    "air_exchange_rate = 20  # /hr (air changes per hour (ACH)) #moving bus mph average\n",
    "\n",
    "\n",
    "##Assumed Parameter Identified as 0.2 for Classrooms, 1.0 for outdoors#\n",
    "# and .5 for buses with windows open\n",
    "primary_outdoor_air_fraction = 0.5  # 1.0 = natural ventilation\n",
    "aerosol_filtration_eff = 0  # >0.9997 HEPA, =0.2-0.9 MERVs, =0 no filter\n",
    "\n",
    "#Average daily RH for San Diego is 69%\n",
    "relative_humidity = 0.69 \n",
    "physical_params = [floor_area, mean_ceiling_height, air_exchange_rate, primary_outdoor_air_fraction,\n",
    "                        aerosol_filtration_eff, relative_humidity]\n",
    "\n",
    "# Physiological Parameters\n",
    "breathing_flow_rate = 0.5  # m3/hr\n",
    "max_aerosol_radius = 2  # micrometers\n",
    "physio_params = [breathing_flow_rate, max_aerosol_radius]\n",
    "\n",
    "# Disease Parameters\n",
    "exhaled_air_inf = 30  # infection quanta/m3, changes with acitivity type.\n",
    "max_viral_deact_rate = 0.3  # /hr\n",
    "disease_params = [exhaled_air_inf, max_viral_deact_rate]\n",
    "\n",
    "# Precautionary Parameters\n",
    "mask_passage_prob = .1 # 1 = no masks, ~0.1 cloth, <0.05 N95\n",
    "risk_tolerance = 0.1  # expected transmissions per infector\n",
    "prec_params = [mask_passage_prob, risk_tolerance]\n",
    "############"
   ]
  },
  {
   "cell_type": "code",
   "execution_count": 8,
   "metadata": {
    "scrolled": true
   },
   "outputs": [
    {
     "name": "stdout",
     "output_type": "stream",
     "text": [
      "done\n"
     ]
    }
   ],
   "source": [
    "select_dict = load_parameters('../config/neighbor_logic.json')\n",
    "\n",
    "def get_neighbor_incoming(x, y, old):\n",
    "    neighb = []\n",
    "    count = 0\n",
    "    x_max = len(old) - 1\n",
    "    y_max = len(old[0]) - 1\n",
    "\n",
    "    if x == 0:\n",
    "        x_range = [0, 1]\n",
    "    elif x == x_max:\n",
    "        x_range = [-1, 0]\n",
    "    else:\n",
    "        x_range = [-1, 0, 1]\n",
    "\n",
    "    if y == 0:\n",
    "        y_range = [0, 1]\n",
    "    elif y == y_max:\n",
    "        y_range = [-1, 0]\n",
    "    else:\n",
    "        y_range = [-1, 0, 1]\n",
    "\n",
    "    this_val = old[x][y]\n",
    "    this_direction = bus_flow_direction[x][y]\n",
    "    this_velocity = bus_flow_velocity[x][y]\n",
    "\n",
    "    dict_iterate_count = 0\n",
    "    for i in x_range:\n",
    "        for j in y_range:\n",
    "            dict_iterate_count += 1\n",
    "            if i == 0 and j == 0:\n",
    "                # disperse .1 to all 8 neighboring squares\n",
    "                for direction in select_dict[str([i, j])]:\n",
    "                    idx = select_dict[str([i, j])].index(direction)\n",
    "                    vel_idx = bus_flow_velocity[x + i][y + j]\n",
    "                    magnitude = .1\n",
    "                    value = old[x + i][y + j]\n",
    "                    neighb.append(value * magnitude)\n",
    "            else:\n",
    "                # factors in neighboring cell\n",
    "                direction = bus_flow_direction[x + i][y + j]\n",
    "\n",
    "                # update direction function\n",
    "\n",
    "                if direction in select_dict[str([i, j])]:\n",
    "                    idx = select_dict[str([i, j])].index(direction)\n",
    "                    vel_idx = bus_flow_velocity[x + i][y + j]\n",
    "                    magnitude = select_dict[\"mag_array\"][vel_idx] * select_dict[\"risk_array\"][idx]\n",
    "                    value = old[x + i][y + j]\n",
    "                    neighb.append(value * magnitude)\n",
    "                # else nothing moves in\n",
    "\n",
    "    if len(neighb) > 0:\n",
    "        vel_mult = max(0, 1-.4 * this_velocity)\n",
    "        new_val = this_val * vel_mult + np.mean(neighb)\n",
    "    else:\n",
    "        new_val = this_val\n",
    "    return new_val\n",
    "\n",
    "def air_effects(i, j, oldQ):\n",
    "    '''\n",
    "    i, j: x y locations\n",
    "\n",
    "    oldQ: old quanta at that cube\n",
    "\n",
    "    get neighbors directions and magnitude\n",
    "    determine % in and % out\n",
    "    '''\n",
    "    # windows\n",
    "    if j < 2 or j > 4:\n",
    "        new = oldQ * .85\n",
    "\n",
    "    # ceiling vents\n",
    "    if (i > 6 and i < 9) or (i > 12 and i < 15):\n",
    "        new = oldQ * .6\n",
    "    else:\n",
    "        new = .9 * oldQ\n",
    "    return new\n",
    "\n",
    "who_initial = {}\n",
    "def make_new_heat(old, bus_pos, init_infected):\n",
    "    '''\n",
    "    step used to calculate concentration_distribution iteratively\n",
    "    '''    \n",
    "    # initial infectiousness of infected agent\n",
    "    \n",
    "    max_air_val = 0\n",
    "    if init_infected:\n",
    "        init_infected_ = init_infected\n",
    "    else:\n",
    "        init_infected_ = np.random.choice(list(bus_pos.keys()))\n",
    "\n",
    "    initial_loc = bus_pos[init_infected_]\n",
    "    new = old.copy()\n",
    "    out = old.copy()\n",
    "    for i in range(len(old)):\n",
    "        for j in range(len(old[i])):\n",
    "            dist = math.sqrt(((initial_loc[0] - i)**2) + (initial_loc[1] - j)**2)\n",
    "            new_val = old[i][j] + (1/(2.02 ** dist)) # 1 quanta per step = 1 / 2.02**dist\n",
    "#             print(new_val, 'new')\n",
    "            new[i][j] = new_val\n",
    "\n",
    "            ##################################################\n",
    "    for i in range(len(old)):\n",
    "        for j in range(len(old[i])):\n",
    "            # get values from neighbors\n",
    "            neighbor_val = np.mean(get_neighbor_incoming(i, j, new))\n",
    "#             print('nv', neighbor_val)\n",
    "            air_val = air_effects(i, j, neighbor_val)\n",
    "            out[i][j] += air_val\n",
    "#             if air_val > max_air_val:\n",
    "#                 print(air_val)\n",
    "#                 max_air_val = air_val\n",
    "            \n",
    "    return out, init_infected\n",
    "\n",
    "bus_flow_direction = np.array([[1, 1, 1, 2, 3, 4, 4],\n",
    "              [1, 4, 7, 8, 9, 9, 6],\n",
    "              [4, 7, 7, 8, 9, 9, 6],\n",
    "              [4, 4, 5, 2, 5, 4, 4],\n",
    "              [8, 5, 5, 2, 5, 5, 8], #\n",
    "              [1, 1, 1, 2, 5, 6, 6],\n",
    "              [1, 1, 2, 2, 5, 6, 6],\n",
    "              [1, 1, 2, 2, 3, 3, 6],\n",
    "              [5, 5, 5, 2, 5, 5, 5],\n",
    "              [1, 1, 1, 2, 3, 3, 3], #\n",
    "              [1, 1, 2, 2, 2, 3, 3],\n",
    "              [1, 1, 2, 2, 2, 3, 3],\n",
    "              [1, 1, 2, 2, 2, 3, 3],\n",
    "              [1, 1, 2, 2, 2, 3, 3],\n",
    "              [1, 5, 5, 2, 2, 3, 3], #\n",
    "              [1, 1, 1, 2, 2, 3, 3],\n",
    "              [1, 1, 1, 2, 2, 3, 3],\n",
    "              [1, 1, 1, 2, 3, 6, 6],\n",
    "              [1, 1, 2, 2, 3, 3, 6],\n",
    "              [1, 2, 2, 2, 3, 3, 6], #\n",
    "              [4, 4, 4, 5, 6, 6, 6],\n",
    "              [2, 2, 2, 5, 5, 5, 5],\n",
    "              [2, 2, 5, 8, 2, 2, 2]])\n",
    "bus_flow_velocity = np.array([[3,3,2,1,1,0,1],\n",
    "    [1,0,1,2,3,2,2],\n",
    "    [1,2,1,0,1,2,2],\n",
    "    [2,1,0,0,0,1,1],\n",
    "    [2,1,0,0,0,1,1], #\n",
    "    [2,1,0,0,0,0,1],\n",
    "    [1,1,0,0,0,0,1],\n",
    "    [1,2,1,1,0,0,0],\n",
    "    [0,1,2,1,0,1,2],\n",
    "    [0,0,0,0,0,0,1], #\n",
    "    [2,2,2,2,2,1,1],\n",
    "    [3,2,2,2,2,2,2],\n",
    "    [2,0,0,0,0,1,2],\n",
    "    [1,2,2,2,2,2,1],\n",
    "    [1,1,2,2,2,1,1], #\n",
    "    [1,1,2,2,2,1,1],\n",
    "    [1,1,1,1,1,1,1],\n",
    "    [2,2,2,2,2,2,2],\n",
    "    [2,2,3,3,3,2,2],\n",
    "    [1,1,2,2,2,1,1], #\n",
    "    [1,1,2,2,2,1,1],\n",
    "    [1,1,1,1,1,1,1],\n",
    "    [1,1,1,1,0,0,0],\n",
    "    [1,1,0,0,0,0,0]])\n",
    "#\n",
    "\n",
    "\n",
    "def concentration_distribution(num_steps, num_sims, bus_edge_pos):\n",
    "    '''\n",
    "    Simulate distribution of concentration after\n",
    "    30 steps\n",
    "    100 runs\n",
    "    random initial student/infectivity\n",
    "\n",
    "\n",
    "    '''\n",
    "    nothings = np.zeros((23, 7)).tolist()\n",
    "    avg_array = nothings.copy()\n",
    "    temp, temp_init = make_new_heat(nothings, bus_edge_pos, None)\n",
    "    temp_array = []\n",
    "    init_array = []\n",
    "    temp_counter = 1\n",
    "    for sim in range(num_sims):\n",
    "        # initialize infectious \n",
    "        init = np.random.choice(list(bus_edge_pos.keys()))\n",
    "        step_heat = []\n",
    "        for step in range(num_steps):\n",
    "            temp_counter += 1\n",
    "            temp, init = make_new_heat(temp, bus_edge_pos, init)\n",
    "            step_heat.append(temp)\n",
    "            init_array.append(init)\n",
    "        temp_array.append(step_heat)\n",
    "        \n",
    "#     print(len(temp_array), len(temp_array[0]), len(temp_array[0][0]), len(temp_array[0][0][0]))\n",
    "    for i in range(len(temp_array)):\n",
    "        for j in range(len(temp_array[0])):\n",
    "            # timesteps \n",
    "            \n",
    "            for y in range(len(temp_array[0][0])):\n",
    "                for x in range(len(temp_array[0][0][0])):\n",
    "                    avg_array[y][x] += (temp_array[i][j][y][x] / len(temp_array[0]))\n",
    "    \n",
    "    \n",
    "    return avg_array, init_array\n",
    "\n",
    "bus_flow_pos = load_parameters('../config/f_seating_full.json')\n",
    "bus_edge_pos = load_parameters('../config/f_seating_half_edge.json')\n",
    "bus_zig_pos = load_parameters('../config/f_seating_half_zig.json')\n",
    "n_sims=10\n",
    "\n",
    "\n",
    "\n",
    "concentration_array, initial_array = concentration_distribution(num_steps = 6, num_sims=n_sims, bus_edge_pos=bus_edge_pos)\n",
    "out_matrix = np.array(np.zeros((23, 7)))\n",
    "out_list = []\n",
    "max_val = 0\n",
    "# print(concentration_array, 'c')\n",
    "\n",
    "\n",
    "# print(len(concentration_array), len(concentration_array[0]), len(concentration_array[0][0]), len(concentration_array[0][0][0]))\n",
    "# rn conc_array is an array \n",
    "\n",
    "# calculate out_matrix and assign values\n",
    "for y in range(len(concentration_array)):\n",
    "    for x in range(len(concentration_array[0])):\n",
    "        out_list.append(concentration_array[y][x])\n",
    "\n",
    "        out_matrix[y][x] += (concentration_array[y][x])\n",
    "    \n",
    "        if (concentration_array[y][x]) > max_val:\n",
    "            max_val = (concentration_array[y][x])\n",
    "#             print(max_val, x, y)\n",
    "\n",
    "# max_val = 0\n",
    "\n",
    "# for y in range(len(concentration_array)):\n",
    "#     for x in range(len(concentration_array[0])):\n",
    "#         out_list.append(concentration_array[y][x])\n",
    "#         out_matrix[y][x] += (concentration_array[y][x]) / len(concentration_array[0])\n",
    "        \n",
    "#         if (concentration_array[y][x] > max_val):\n",
    "#             max_val = concentration_array[y][x]\n",
    "#             print(max_val, x, y)\n",
    "                \n",
    "conc_1 = concentration_array[0]\n",
    "concentration_ = out_matrix.copy()\n",
    "# print(out_list, np.log(out_list))\n",
    "# for conc in range(len(concentration_array)):\n",
    "#     for y in range(23):\n",
    "#         for x in range(7):\n",
    "#             # normalize\n",
    "#             concentration_[y][x] = np.sqrt(out_matrix[y][x])\n",
    "print('done')"
   ]
  },
  {
   "cell_type": "code",
   "execution_count": 9,
   "metadata": {},
   "outputs": [
    {
     "data": {
      "text/plain": [
       "(-0.5, 6.5, 22.5, -0.5)"
      ]
     },
     "execution_count": 9,
     "metadata": {},
     "output_type": "execute_result"
    },
    {
     "data": {
      "image/png": "[encoded data removed]",
      "text/plain": [
       "<Figure size 720x720 with 1 Axes>"
      ]
     },
     "metadata": {
      "needs_background": "light"
     },
     "output_type": "display_data"
    }
   ],
   "source": [
    "fig, axs = plt.subplots(figsize=(10, 10))\n",
    "\n",
    "ax0 = axs.matshow(concentration_, cmap=\"OrRd\", label=\"One Simulation\")\n",
    "\n",
    "ax0 = axs.matshow(out_matrix, cmap=\"OrRd\", norm=mpl.colors.LogNorm())\n",
    "\n",
    "\n",
    "ax3 = axs.matshow(concentration_, norm=mpl.colors.LogNorm())\n",
    "# fig.colorbar(ax1, ax=ax3)\n",
    "# fig.colorbar(ax1, ax=ax3[0][1])\n",
    "\n",
    "plt.axis('off')\n",
    "# plt.savefig('concentration_avg_')\n",
    "# r = ax0.axs[0][1]\n",
    "\n",
    "# fig.colorbar(ax2, ax=axs[1][0])\n",
    "# fig.colorbar(ax3, ax=axs[1][1])\n",
    "\n",
    "# fig.tight_layout(4, 1, figsize=(10, 10))\n",
    "\n",
    "# initial_array"
   ]
  },
  {
   "cell_type": "code",
   "execution_count": 37,
   "metadata": {
    "scrolled": false
   },
   "outputs": [
    {
     "name": "stderr",
     "output_type": "stream",
     "text": [
      "C:\\Users\\Bailey\\AppData\\Local\\Packages\\PythonSoftwareFoundation.Python.3.8_qbz5n2kfra8p0\\LocalCache\\local-packages\\Python38\\site-packages\\numpy\\core\\fromnumeric.py:3372: RuntimeWarning: Mean of empty slice.\n",
      "  return _methods._mean(a, axis=axis, dtype=dtype,\n",
      "C:\\Users\\Bailey\\AppData\\Local\\Packages\\PythonSoftwareFoundation.Python.3.8_qbz5n2kfra8p0\\LocalCache\\local-packages\\Python38\\site-packages\\numpy\\core\\_methods.py:170: RuntimeWarning: invalid value encountered in double_scalars\n",
      "  ret = ret.dtype.type(ret / rcount)\n"
     ]
    }
   ],
   "source": [
    "# BUS\n",
    "\n",
    "# --> Airavata: implement ############# section ########## with user input instead of loop\n",
    "\n",
    "# initialize: parameter loops\n",
    "\n",
    "windows = ['up', 'down']\n",
    "num_students = [56]\n",
    "masks = [1]\n",
    "num_sims = 100\n",
    "trip_length = 30\n",
    "\n",
    "\n",
    "# table output: % chance of >= 1 infection over 1 bus trip\n",
    "\n",
    "out_array = [[], [], []]\n",
    "\n",
    "bus_trip_array = []\n",
    "\n",
    "\n",
    "out_matrix = np.array(np.zeros(shape=bus_flow_direction.shape))\n",
    "\n",
    "for w in range(len(windows)):\n",
    "\n",
    "    for n in range(len(num_students)):\n",
    "        \n",
    "        for m in range(len(masks)):\n",
    "            if windows[w] == 'up': # effective ACH = 5 \n",
    "                win_effect = 0.25\n",
    "            if windows[w] == 'down': # effective ACH = 20 # estimated for bus w/ windows down @ speed\n",
    "                win_effect = 1\n",
    "            # conc is not averaged yet\n",
    "            bus_trip, conc, avg_conc, chance_nonzero = bus_sim(windows[w], num_students[n], masks[m], num_sims, trip_length, flow_seating=bus_flow_pos)\n",
    "            # this is an array of transmission % for each student on the trip\n",
    "        \n",
    "            # reference array\n",
    "            out_array[m].append(chance_nonzero) # append value\n",
    "            \n",
    "            bus_trip_array.append(bus_trip)\n",
    "            \n",
    "            for y in range(len(avg_conc)):\n",
    "                for x in range((len(avg_conc[0]))):\n",
    "                    out_matrix[y][x] += (avg_conc[y][x]) / (len(windows) * len(num_students) * len(masks))\n",
    "        \n",
    "        \n",
    "        \n",
    "out_df = pd.DataFrame(out_array)\n",
    "out_df.columns = ['WinDown56', 'WinUp56']\n",
    "out_df.index = ['100%', '90%', '80%'] # mask wearing rate\n",
    "sim_df = out_df.copy()\n",
    "\n",
    "\n"
   ]
  },
  {
   "cell_type": "code",
   "execution_count": 44,
   "metadata": {},
   "outputs": [
    {
     "data": {
      "image/png": "[encoded data removed]",
      "text/plain": [
       "<Figure size 432x288 with 1 Axes>"
      ]
     },
     "metadata": {
      "needs_background": "light"
     },
     "output_type": "display_data"
    }
   ],
   "source": [
    "\n",
    "pd.Series(bus_trip_array[0]).plot.kde()\n",
    "pd.Series(bus_trip_array[1]).plot.kde()\n",
    "# pd.Series(bus_trip_array[2]).plot.kde()\n",
    "\n",
    "# # pd.Series(bus_trip_array[3]).plot.kde()\n",
    "# pd.Series(bus_trip_array[4]).plot.kde()\n",
    "# pd.Series(bus_trip_array[5]).plot.kde()\n",
    "\n",
    "ax = plt.gca()\n",
    "plt.title('Density estimation of exposure over course of 1 trip')\n",
    "plt.xlim(0, .002)\n",
    "plt.xticks(np.arange(0, .002, .0005))\n",
    "\n",
    "plt.yticks(np.arange(0, 3500, 700), np.arange(0, 3500, 700) / 3500)\n",
    "\n",
    "# rescale y axis to be % based\n",
    "plt.xlabel('Likelihood of exposure to infectious dose of particles')\n",
    "plt.ylabel('Density estimation of probability of occurrence')\n",
    "legend_array = ['Windows Open', 'Windows Closed']\n",
    "# legend_array = ['Windows Down,56 Students Masks 100%', 'Windows Down,56 Students Masks 90%', 'Windows Down,56 Students Masks 80%',\n",
    "#                'Windows Up,56 Students Masks 100%', 'Windows Up,56 Students Masks 90%', 'Windows Up,56 Students Masks 80%']\n",
    "plt.legend(legend_array)\n",
    "plt.savefig('window_curve.png', dpi=300)\n",
    "# plt.legend(['Windows Down,56 Students,Masks = 100%', 'Windows Down,56 Students,Masks = 90%', 'Windows Down,56 Students, Masks = 80%'])"
   ]
  },
  {
   "cell_type": "code",
   "execution_count": 24,
   "metadata": {},
   "outputs": [],
   "source": [
    "# plot windows :dONE:"
   ]
  },
  {
   "cell_type": "code",
   "execution_count": 25,
   "metadata": {},
   "outputs": [],
   "source": [
    "# plot seating pattern diff\n"
   ]
  },
  {
   "cell_type": "code",
   "execution_count": 35,
   "metadata": {
    "scrolled": true
   },
   "outputs": [
    {
     "name": "stdout",
     "output_type": "stream",
     "text": [
      "Windows Up      0.217944\n",
      "Windows Down    0.171363\n",
      "Name: Zigzag Seating, dtype: float64\n",
      "1\n",
      "Windows Up      0.311595\n",
      "Windows Down    0.301111\n",
      "Name: Window Seating, dtype: float64\n",
      "1\n",
      "Windows Up      0.383424\n",
      "Windows Down    0.396158\n",
      "Name: Full Occupancy, dtype: float64\n",
      "1\n"
     ]
    },
    {
     "data": {
      "text/plain": [
       "Zigzag Seating    None\n",
       "Window Seating    None\n",
       "Full Occupancy    None\n",
       "dtype: object"
      ]
     },
     "execution_count": 35,
     "metadata": {},
     "output_type": "execute_result"
    }
   ],
   "source": [
    "final_df = pd.DataFrame(out_array)\n",
    "# col =['WinUp28', 'WinUp56', 'WinDown28', 'WinDown56']\n",
    "# final_df.index = ['100%', '90%', '80%'] # mask wearing rate\n",
    "final_df.columns = ['Windows Up', 'Windows Down']\n",
    "final_df.index = ['Zigzag Seating', 'Window Seating', 'Full Occupancy']\n",
    "\n",
    "\n",
    "def aply(elem):\n",
    "    \n",
    "\n",
    "    \n",
    "out_df = final_df.apply(aply)\n",
    "out_df"
   ]
  },
  {
   "cell_type": "code",
   "execution_count": 36,
   "metadata": {},
   "outputs": [
    {
     "data": {
      "text/plain": [
       "2.312656158785756"
      ]
     },
     "execution_count": 36,
     "metadata": {},
     "output_type": "execute_result"
    }
   ],
   "source": [
    ".396158 / .1713"
   ]
  },
  {
   "cell_type": "code",
   "execution_count": 15,
   "metadata": {},
   "outputs": [
    {
     "data": {
      "text/plain": [
       "<matplotlib.collections.PathCollection at 0x25717c8bf10>"
      ]
     },
     "execution_count": 15,
     "metadata": {},
     "output_type": "execute_result"
    },
    {
     "data": {
      "image/png": "[encoded data removed]",
      "text/plain": [
       "<Figure size 432x288 with 1 Axes>"
      ]
     },
     "metadata": {
      "needs_background": "light"
     },
     "output_type": "display_data"
    }
   ],
   "source": [
    "\n",
    "x_arr1 = []\n",
    "y_arr1 = []\n",
    "for i in bus_edge_pos.items():\n",
    "    x_arr1.append(i[1][1])\n",
    "    y_arr1.append(i[1][0])\n",
    "plt.title('Windows-only seating')\n",
    "plt.scatter(x=x_arr1, y=y_arr1)"
   ]
  },
  {
   "cell_type": "code",
   "execution_count": 16,
   "metadata": {},
   "outputs": [
    {
     "data": {
      "text/plain": [
       "<matplotlib.collections.PathCollection at 0x25719d46280>"
      ]
     },
     "execution_count": 16,
     "metadata": {},
     "output_type": "execute_result"
    },
    {
     "data": {
      "image/png": "[encoded data removed]",
      "text/plain": [
       "<Figure size 432x288 with 1 Axes>"
      ]
     },
     "metadata": {
      "needs_background": "light"
     },
     "output_type": "display_data"
    }
   ],
   "source": [
    "\n",
    "x_arr2 = []\n",
    "y_arr2 = []\n",
    "for i in bus_flow_pos.items():\n",
    "    x_arr2.append(i[1][1])\n",
    "    y_arr2.append(i[1][0])\n",
    "plt.title('Full Occupancy seating')\n",
    "plt.scatter(x=x_arr2, y=y_arr2)"
   ]
  },
  {
   "cell_type": "code",
   "execution_count": 17,
   "metadata": {},
   "outputs": [
    {
     "data": {
      "text/plain": [
       "<matplotlib.collections.PathCollection at 0x25717cff2e0>"
      ]
     },
     "execution_count": 17,
     "metadata": {},
     "output_type": "execute_result"
    },
    {
     "data": {
      "image/png": "[encoded data removed]",
      "text/plain": [
       "<Figure size 432x288 with 1 Axes>"
      ]
     },
     "metadata": {
      "needs_background": "light"
     },
     "output_type": "display_data"
    }
   ],
   "source": [
    "\n",
    "\n",
    "x_arr3 = []\n",
    "y_arr3 = []\n",
    "for i in bus_zig_pos.items():\n",
    "    x_arr3.append(i[1][1])\n",
    "    y_arr3.append(i[1][0])\n",
    "plt.title('Zigzag seating')\n",
    "plt.scatter(x=x_arr3, y=y_arr3)"
   ]
  },
  {
   "cell_type": "code",
   "execution_count": 18,
   "metadata": {
    "scrolled": true
   },
   "outputs": [
    {
     "data": {
      "image/png": "[encoded data removed]",
      "text/plain": [
       "<Figure size 288x946.286 with 1 Axes>"
      ]
     },
     "metadata": {},
     "output_type": "display_data"
    }
   ],
   "source": [
    "\n",
    "plt.matshow(concentration_, cmap=\"OrRd\", norm=mpl.colors.LogNorm())\n",
    "# inf_array = np.unique()\n",
    "\n",
    "infected = np.unique(initial_array)\n",
    "\n",
    "x_arr_conc = []\n",
    "y_arr_conc = []\n",
    "for i in infected:\n",
    "#     if :\n",
    "    v = bus_flow_pos[i]\n",
    "    x_arr_conc.append(v[1])\n",
    "    y_arr_conc.append(v[0])\n",
    "          \n",
    "\n",
    "plt.scatter(x_arr2, y_arr2, marker='o', c='lightgreen') \n",
    "plt.scatter(x_arr_conc, y_arr_conc, marker='o', c='darkblue')\n",
    "plt.xlabel('v')\n",
    "plt.xticks([])\n",
    "plt.yticks([])\n",
    "plt.savefig('concentration_seating_56_full.png', dpi=300)"
   ]
  },
  {
   "cell_type": "code",
   "execution_count": 19,
   "metadata": {},
   "outputs": [],
   "source": [
    "# plot distribution of distances between individuals\n",
    "front_idx = int(len(x_arr2) / 5) + 5\n",
    "back_idx = int(len(x_arr2) / 3) * 2"
   ]
  },
  {
   "cell_type": "code",
   "execution_count": 20,
   "metadata": {},
   "outputs": [
    {
     "data": {
      "text/plain": [
       "([], [])"
      ]
     },
     "execution_count": 20,
     "metadata": {},
     "output_type": "execute_result"
    },
    {
     "data": {
      "image/png": "[encoded data removed]",
      "text/plain": [
       "<Figure size 432x288 with 1 Axes>"
      ]
     },
     "metadata": {},
     "output_type": "display_data"
    }
   ],
   "source": [
    "plt.scatter(x_arr2[:front_idx], y_arr2[:front_idx], marker='o', c='blue')\n",
    "plt.scatter(x_arr2[front_idx:back_idx], y_arr2[front_idx:back_idx], marker='o', c='orange')\n",
    "plt.scatter(x_arr2[back_idx:], y_arr2[back_idx:], marker='o', c='green')\n",
    "plt.xticks([])\n",
    "plt.yticks([])"
   ]
  },
  {
   "cell_type": "code",
   "execution_count": null,
   "metadata": {},
   "outputs": [],
   "source": []
  }
 ],
 "metadata": {
  "kernelspec": {
   "display_name": "Python 3",
   "language": "python",
   "name": "python3"
  },
  "language_info": {
   "codemirror_mode": {
    "name": "ipython",
    "version": 3
   },
   "file_extension": ".py",
   "mimetype": "text/x-python",
   "name": "python",
   "nbconvert_exporter": "python",
   "pygments_lexer": "ipython3",
   "version": "3.9.4"
  }
 },
 "nbformat": 4,
 "nbformat_minor": 4
}
